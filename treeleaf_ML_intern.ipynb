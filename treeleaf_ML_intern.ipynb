{
 "cells": [
  {
   "cell_type": "markdown",
   "id": "89e6bf9a",
   "metadata": {},
   "source": [
    "# Bank Loan Classification"
   ]
  },
  {
   "cell_type": "markdown",
   "id": "dbd0c8ae",
   "metadata": {},
   "source": [
    "In this data science project I am building the machine learning model using classification algorithms that can accurately classify whether the personal loan was accepted or not based on the information provided."
   ]
  },
  {
   "cell_type": "markdown",
   "id": "cc751050",
   "metadata": {},
   "source": [
    "##  Importing all the necessary libraries"
   ]
  },
  {
   "cell_type": "code",
   "execution_count": 302,
   "id": "89a51e1d",
   "metadata": {},
   "outputs": [],
   "source": [
    "import pandas as pd\n",
    "import numpy as np\n",
    "import matplotlib.pyplot as plt\n",
    "import seaborn as sns\n",
    "import warnings \n",
    "warnings.filterwarnings('ignore')"
   ]
  },
  {
   "cell_type": "markdown",
   "id": "abac2932",
   "metadata": {},
   "source": [
    "Experimenting two classification algorithms ie. K Nearest Neighbor classifier and Random forest classifier"
   ]
  },
  {
   "cell_type": "code",
   "execution_count": 303,
   "id": "0287a6f6",
   "metadata": {},
   "outputs": [],
   "source": [
    "df=pd.read_excel(\"loan_data.xlsx\")"
   ]
  },
  {
   "cell_type": "markdown",
   "id": "8d5b7f3b",
   "metadata": {},
   "source": [
    "## EDA"
   ]
  },
  {
   "cell_type": "code",
   "execution_count": 304,
   "id": "0a642e6f",
   "metadata": {
    "scrolled": true
   },
   "outputs": [
    {
     "data": {
      "text/html": [
       "<div>\n",
       "<style scoped>\n",
       "    .dataframe tbody tr th:only-of-type {\n",
       "        vertical-align: middle;\n",
       "    }\n",
       "\n",
       "    .dataframe tbody tr th {\n",
       "        vertical-align: top;\n",
       "    }\n",
       "\n",
       "    .dataframe thead th {\n",
       "        text-align: right;\n",
       "    }\n",
       "</style>\n",
       "<table border=\"1\" class=\"dataframe\">\n",
       "  <thead>\n",
       "    <tr style=\"text-align: right;\">\n",
       "      <th></th>\n",
       "      <th>ID</th>\n",
       "      <th>Age</th>\n",
       "      <th>Gender</th>\n",
       "      <th>Experience</th>\n",
       "      <th>Income</th>\n",
       "      <th>ZIP Code</th>\n",
       "      <th>Family</th>\n",
       "      <th>CCAvg</th>\n",
       "      <th>Education</th>\n",
       "      <th>Mortgage</th>\n",
       "      <th>Home Ownership</th>\n",
       "      <th>Personal Loan</th>\n",
       "      <th>Securities Account</th>\n",
       "      <th>CD Account</th>\n",
       "      <th>Online</th>\n",
       "      <th>CreditCard</th>\n",
       "    </tr>\n",
       "  </thead>\n",
       "  <tbody>\n",
       "    <tr>\n",
       "      <th>0</th>\n",
       "      <td>1</td>\n",
       "      <td>25</td>\n",
       "      <td>M</td>\n",
       "      <td>1</td>\n",
       "      <td>49.0</td>\n",
       "      <td>91107</td>\n",
       "      <td>4</td>\n",
       "      <td>1.6</td>\n",
       "      <td>1</td>\n",
       "      <td>0</td>\n",
       "      <td>Home Owner</td>\n",
       "      <td>0</td>\n",
       "      <td>1</td>\n",
       "      <td>0</td>\n",
       "      <td>0.0</td>\n",
       "      <td>0</td>\n",
       "    </tr>\n",
       "    <tr>\n",
       "      <th>1</th>\n",
       "      <td>2</td>\n",
       "      <td>45</td>\n",
       "      <td>M</td>\n",
       "      <td>19</td>\n",
       "      <td>34.0</td>\n",
       "      <td>90089</td>\n",
       "      <td>3</td>\n",
       "      <td>1.5</td>\n",
       "      <td>1</td>\n",
       "      <td>0</td>\n",
       "      <td>Rent</td>\n",
       "      <td>0</td>\n",
       "      <td>1</td>\n",
       "      <td>0</td>\n",
       "      <td>0.0</td>\n",
       "      <td>0</td>\n",
       "    </tr>\n",
       "    <tr>\n",
       "      <th>2</th>\n",
       "      <td>3</td>\n",
       "      <td>39</td>\n",
       "      <td>M</td>\n",
       "      <td>15</td>\n",
       "      <td>11.0</td>\n",
       "      <td>94720</td>\n",
       "      <td>1</td>\n",
       "      <td>1.0</td>\n",
       "      <td>1</td>\n",
       "      <td>0</td>\n",
       "      <td>Rent</td>\n",
       "      <td>0</td>\n",
       "      <td>0</td>\n",
       "      <td>0</td>\n",
       "      <td>0.0</td>\n",
       "      <td>0</td>\n",
       "    </tr>\n",
       "    <tr>\n",
       "      <th>3</th>\n",
       "      <td>4</td>\n",
       "      <td>35</td>\n",
       "      <td>M</td>\n",
       "      <td>9</td>\n",
       "      <td>100.0</td>\n",
       "      <td>94112</td>\n",
       "      <td>1</td>\n",
       "      <td>2.7</td>\n",
       "      <td>2</td>\n",
       "      <td>0</td>\n",
       "      <td>Rent</td>\n",
       "      <td>0</td>\n",
       "      <td>0</td>\n",
       "      <td>0</td>\n",
       "      <td>0.0</td>\n",
       "      <td>0</td>\n",
       "    </tr>\n",
       "    <tr>\n",
       "      <th>4</th>\n",
       "      <td>5</td>\n",
       "      <td>35</td>\n",
       "      <td>M</td>\n",
       "      <td>8</td>\n",
       "      <td>45.0</td>\n",
       "      <td>91330</td>\n",
       "      <td>4</td>\n",
       "      <td>1.0</td>\n",
       "      <td>2</td>\n",
       "      <td>0</td>\n",
       "      <td>Rent</td>\n",
       "      <td>0</td>\n",
       "      <td>0</td>\n",
       "      <td>0</td>\n",
       "      <td>0.0</td>\n",
       "      <td>1</td>\n",
       "    </tr>\n",
       "  </tbody>\n",
       "</table>\n",
       "</div>"
      ],
      "text/plain": [
       "   ID  Age Gender  Experience  Income  ZIP Code  Family  CCAvg  Education  \\\n",
       "0   1   25      M           1    49.0     91107       4    1.6          1   \n",
       "1   2   45      M          19    34.0     90089       3    1.5          1   \n",
       "2   3   39      M          15    11.0     94720       1    1.0          1   \n",
       "3   4   35      M           9   100.0     94112       1    2.7          2   \n",
       "4   5   35      M           8    45.0     91330       4    1.0          2   \n",
       "\n",
       "   Mortgage Home Ownership Personal Loan  Securities Account  CD Account  \\\n",
       "0         0     Home Owner             0                   1           0   \n",
       "1         0           Rent             0                   1           0   \n",
       "2         0           Rent             0                   0           0   \n",
       "3         0           Rent             0                   0           0   \n",
       "4         0           Rent             0                   0           0   \n",
       "\n",
       "   Online  CreditCard  \n",
       "0     0.0           0  \n",
       "1     0.0           0  \n",
       "2     0.0           0  \n",
       "3     0.0           0  \n",
       "4     0.0           1  "
      ]
     },
     "execution_count": 304,
     "metadata": {},
     "output_type": "execute_result"
    }
   ],
   "source": [
    "df.head()"
   ]
  },
  {
   "cell_type": "markdown",
   "id": "30ee1a4c",
   "metadata": {},
   "source": [
    "Checking and handling the nan and missing values"
   ]
  },
  {
   "cell_type": "code",
   "execution_count": 305,
   "id": "7102bacd",
   "metadata": {},
   "outputs": [
    {
     "name": "stdout",
     "output_type": "stream",
     "text": [
      "<class 'pandas.core.frame.DataFrame'>\n",
      "RangeIndex: 5000 entries, 0 to 4999\n",
      "Data columns (total 16 columns):\n",
      " #   Column              Non-Null Count  Dtype  \n",
      "---  ------              --------------  -----  \n",
      " 0   ID                  5000 non-null   int64  \n",
      " 1   Age                 5000 non-null   int64  \n",
      " 2   Gender              3404 non-null   object \n",
      " 3   Experience          5000 non-null   int64  \n",
      " 4   Income              4933 non-null   float64\n",
      " 5   ZIP Code            5000 non-null   int64  \n",
      " 6   Family              5000 non-null   int64  \n",
      " 7   CCAvg               5000 non-null   float64\n",
      " 8   Education           5000 non-null   int64  \n",
      " 9   Mortgage            5000 non-null   int64  \n",
      " 10  Home Ownership      3811 non-null   object \n",
      " 11  Personal Loan       5000 non-null   object \n",
      " 12  Securities Account  5000 non-null   int64  \n",
      " 13  CD Account          5000 non-null   int64  \n",
      " 14  Online              4960 non-null   float64\n",
      " 15  CreditCard          5000 non-null   int64  \n",
      "dtypes: float64(3), int64(10), object(3)\n",
      "memory usage: 625.1+ KB\n"
     ]
    }
   ],
   "source": [
    "df.info()"
   ]
  },
  {
   "cell_type": "code",
   "execution_count": 306,
   "id": "56868b9b",
   "metadata": {},
   "outputs": [
    {
     "data": {
      "text/plain": [
       "ID                       0\n",
       "Age                      0\n",
       "Gender                1596\n",
       "Experience               0\n",
       "Income                  67\n",
       "ZIP Code                 0\n",
       "Family                   0\n",
       "CCAvg                    0\n",
       "Education                0\n",
       "Mortgage                 0\n",
       "Home Ownership        1189\n",
       "Personal Loan            0\n",
       "Securities Account       0\n",
       "CD Account               0\n",
       "Online                  40\n",
       "CreditCard               0\n",
       "dtype: int64"
      ]
     },
     "execution_count": 306,
     "metadata": {},
     "output_type": "execute_result"
    }
   ],
   "source": [
    "df.isna().sum()"
   ]
  },
  {
   "cell_type": "code",
   "execution_count": 307,
   "id": "e33cfc05",
   "metadata": {},
   "outputs": [
    {
     "data": {
      "text/plain": [
       "(5000, 16)"
      ]
     },
     "execution_count": 307,
     "metadata": {},
     "output_type": "execute_result"
    }
   ],
   "source": [
    "df.shape"
   ]
  },
  {
   "cell_type": "code",
   "execution_count": 308,
   "id": "ee8ec420",
   "metadata": {},
   "outputs": [
    {
     "data": {
      "text/plain": [
       "array(['M', 'F', 'O', nan, '#', '-'], dtype=object)"
      ]
     },
     "execution_count": 308,
     "metadata": {},
     "output_type": "execute_result"
    }
   ],
   "source": [
    "df['Gender'].unique()"
   ]
  },
  {
   "cell_type": "markdown",
   "id": "83583069",
   "metadata": {},
   "source": [
    "Remove the rows with # and -"
   ]
  },
  {
   "cell_type": "code",
   "execution_count": 309,
   "id": "aa59f000",
   "metadata": {},
   "outputs": [],
   "source": [
    "df = df[~df['Gender'].isin(['#', '-'])]"
   ]
  },
  {
   "cell_type": "code",
   "execution_count": 310,
   "id": "ac20cb6d",
   "metadata": {},
   "outputs": [
    {
     "data": {
      "text/plain": [
       "array(['M', 'F', 'O', nan], dtype=object)"
      ]
     },
     "execution_count": 310,
     "metadata": {},
     "output_type": "execute_result"
    }
   ],
   "source": [
    "df['Gender'].unique()"
   ]
  },
  {
   "cell_type": "code",
   "execution_count": null,
   "id": "cc02b040",
   "metadata": {},
   "outputs": [],
   "source": []
  },
  {
   "cell_type": "code",
   "execution_count": null,
   "id": "bcf7e8fb",
   "metadata": {},
   "outputs": [],
   "source": []
  },
  {
   "cell_type": "code",
   "execution_count": null,
   "id": "cc44c9c5",
   "metadata": {},
   "outputs": [],
   "source": []
  },
  {
   "cell_type": "code",
   "execution_count": 311,
   "id": "dfce597f",
   "metadata": {
    "scrolled": false
   },
   "outputs": [
    {
     "data": {
      "image/png": "[encoded data removed]",
      "text/plain": [
       "<Figure size 800x600 with 1 Axes>"
      ]
     },
     "metadata": {},
     "output_type": "display_data"
    }
   ],
   "source": [
    "plt.figure(figsize=(8, 6))\n",
    "sns.countplot(data=df, x='Gender', hue='Personal Loan')\n",
    "plt.title('Distribution between each category of Genders and Personal loan')\n",
    "plt.xlabel('Gender')\n",
    "plt.ylabel('Count')\n",
    "plt.show()"
   ]
  },
  {
   "cell_type": "markdown",
   "id": "c8ec2aa2",
   "metadata": {},
   "source": [
    "Not any relation"
   ]
  },
  {
   "cell_type": "code",
   "execution_count": 312,
   "id": "9d6efb25",
   "metadata": {},
   "outputs": [
    {
     "data": {
      "text/plain": [
       "array([0, 1, ' '], dtype=object)"
      ]
     },
     "execution_count": 312,
     "metadata": {},
     "output_type": "execute_result"
    }
   ],
   "source": [
    "df[\"Personal Loan\"].unique()"
   ]
  },
  {
   "cell_type": "code",
   "execution_count": 313,
   "id": "67a57b08",
   "metadata": {},
   "outputs": [],
   "source": [
    "df=df[df['Personal Loan'] != ' ']"
   ]
  },
  {
   "cell_type": "code",
   "execution_count": 314,
   "id": "a50347be",
   "metadata": {},
   "outputs": [
    {
     "name": "stdout",
     "output_type": "stream",
     "text": [
      "Point-biserial correlation coefficient: 0.1923869685587113\n",
      "P-value: 1.0956235819262928e-42\n"
     ]
    }
   ],
   "source": [
    "from scipy import stats\n",
    "# Fill NaN with a default value\n",
    "df['Gender'].fillna('U', inplace=True)\n",
    "\n",
    "# Convert 'Gender' to numeric\n",
    "df['Gender_numeric'] = df['Gender'].map({'M': 0, 'F': 1, 'O': 2, 'U': -1})\n",
    "\n",
    "# Remove any remaining NaN values\n",
    "df = df.dropna(subset=['Gender_numeric'])\n",
    "\n",
    "# Calculate point-biserial correlation\n",
    "correlation = stats.pointbiserialr(df['Gender_numeric'], df['Personal Loan'])\n",
    "print(\"Point-biserial correlation coefficient:\", correlation.correlation)\n",
    "print(\"P-value:\", correlation.pvalue)"
   ]
  },
  {
   "cell_type": "markdown",
   "id": "eb5a9007",
   "metadata": {},
   "source": [
    "Less p-value shows that gender column is not relatable with the target column. So its okay to remove gender column."
   ]
  },
  {
   "cell_type": "code",
   "execution_count": 315,
   "id": "39485f02",
   "metadata": {},
   "outputs": [],
   "source": [
    "df=df.drop(columns=['Gender'])"
   ]
  },
  {
   "cell_type": "code",
   "execution_count": 316,
   "id": "20c27d5b",
   "metadata": {},
   "outputs": [
    {
     "data": {
      "text/html": [
       "<div>\n",
       "<style scoped>\n",
       "    .dataframe tbody tr th:only-of-type {\n",
       "        vertical-align: middle;\n",
       "    }\n",
       "\n",
       "    .dataframe tbody tr th {\n",
       "        vertical-align: top;\n",
       "    }\n",
       "\n",
       "    .dataframe thead th {\n",
       "        text-align: right;\n",
       "    }\n",
       "</style>\n",
       "<table border=\"1\" class=\"dataframe\">\n",
       "  <thead>\n",
       "    <tr style=\"text-align: right;\">\n",
       "      <th></th>\n",
       "      <th>ID</th>\n",
       "      <th>Age</th>\n",
       "      <th>Experience</th>\n",
       "      <th>Income</th>\n",
       "      <th>ZIP Code</th>\n",
       "      <th>Family</th>\n",
       "      <th>CCAvg</th>\n",
       "      <th>Education</th>\n",
       "      <th>Mortgage</th>\n",
       "      <th>Home Ownership</th>\n",
       "      <th>Personal Loan</th>\n",
       "      <th>Securities Account</th>\n",
       "      <th>CD Account</th>\n",
       "      <th>Online</th>\n",
       "      <th>CreditCard</th>\n",
       "      <th>Gender_numeric</th>\n",
       "    </tr>\n",
       "  </thead>\n",
       "  <tbody>\n",
       "    <tr>\n",
       "      <th>0</th>\n",
       "      <td>1</td>\n",
       "      <td>25</td>\n",
       "      <td>1</td>\n",
       "      <td>49.0</td>\n",
       "      <td>91107</td>\n",
       "      <td>4</td>\n",
       "      <td>1.6</td>\n",
       "      <td>1</td>\n",
       "      <td>0</td>\n",
       "      <td>Home Owner</td>\n",
       "      <td>0</td>\n",
       "      <td>1</td>\n",
       "      <td>0</td>\n",
       "      <td>0.0</td>\n",
       "      <td>0</td>\n",
       "      <td>0</td>\n",
       "    </tr>\n",
       "    <tr>\n",
       "      <th>1</th>\n",
       "      <td>2</td>\n",
       "      <td>45</td>\n",
       "      <td>19</td>\n",
       "      <td>34.0</td>\n",
       "      <td>90089</td>\n",
       "      <td>3</td>\n",
       "      <td>1.5</td>\n",
       "      <td>1</td>\n",
       "      <td>0</td>\n",
       "      <td>Rent</td>\n",
       "      <td>0</td>\n",
       "      <td>1</td>\n",
       "      <td>0</td>\n",
       "      <td>0.0</td>\n",
       "      <td>0</td>\n",
       "      <td>0</td>\n",
       "    </tr>\n",
       "    <tr>\n",
       "      <th>2</th>\n",
       "      <td>3</td>\n",
       "      <td>39</td>\n",
       "      <td>15</td>\n",
       "      <td>11.0</td>\n",
       "      <td>94720</td>\n",
       "      <td>1</td>\n",
       "      <td>1.0</td>\n",
       "      <td>1</td>\n",
       "      <td>0</td>\n",
       "      <td>Rent</td>\n",
       "      <td>0</td>\n",
       "      <td>0</td>\n",
       "      <td>0</td>\n",
       "      <td>0.0</td>\n",
       "      <td>0</td>\n",
       "      <td>0</td>\n",
       "    </tr>\n",
       "    <tr>\n",
       "      <th>3</th>\n",
       "      <td>4</td>\n",
       "      <td>35</td>\n",
       "      <td>9</td>\n",
       "      <td>100.0</td>\n",
       "      <td>94112</td>\n",
       "      <td>1</td>\n",
       "      <td>2.7</td>\n",
       "      <td>2</td>\n",
       "      <td>0</td>\n",
       "      <td>Rent</td>\n",
       "      <td>0</td>\n",
       "      <td>0</td>\n",
       "      <td>0</td>\n",
       "      <td>0.0</td>\n",
       "      <td>0</td>\n",
       "      <td>0</td>\n",
       "    </tr>\n",
       "    <tr>\n",
       "      <th>4</th>\n",
       "      <td>5</td>\n",
       "      <td>35</td>\n",
       "      <td>8</td>\n",
       "      <td>45.0</td>\n",
       "      <td>91330</td>\n",
       "      <td>4</td>\n",
       "      <td>1.0</td>\n",
       "      <td>2</td>\n",
       "      <td>0</td>\n",
       "      <td>Rent</td>\n",
       "      <td>0</td>\n",
       "      <td>0</td>\n",
       "      <td>0</td>\n",
       "      <td>0.0</td>\n",
       "      <td>1</td>\n",
       "      <td>0</td>\n",
       "    </tr>\n",
       "    <tr>\n",
       "      <th>...</th>\n",
       "      <td>...</td>\n",
       "      <td>...</td>\n",
       "      <td>...</td>\n",
       "      <td>...</td>\n",
       "      <td>...</td>\n",
       "      <td>...</td>\n",
       "      <td>...</td>\n",
       "      <td>...</td>\n",
       "      <td>...</td>\n",
       "      <td>...</td>\n",
       "      <td>...</td>\n",
       "      <td>...</td>\n",
       "      <td>...</td>\n",
       "      <td>...</td>\n",
       "      <td>...</td>\n",
       "      <td>...</td>\n",
       "    </tr>\n",
       "    <tr>\n",
       "      <th>4995</th>\n",
       "      <td>4996</td>\n",
       "      <td>29</td>\n",
       "      <td>3</td>\n",
       "      <td>40.0</td>\n",
       "      <td>92697</td>\n",
       "      <td>1</td>\n",
       "      <td>1.9</td>\n",
       "      <td>3</td>\n",
       "      <td>0</td>\n",
       "      <td>NaN</td>\n",
       "      <td>0</td>\n",
       "      <td>0</td>\n",
       "      <td>0</td>\n",
       "      <td>1.0</td>\n",
       "      <td>0</td>\n",
       "      <td>-1</td>\n",
       "    </tr>\n",
       "    <tr>\n",
       "      <th>4996</th>\n",
       "      <td>4997</td>\n",
       "      <td>30</td>\n",
       "      <td>4</td>\n",
       "      <td>15.0</td>\n",
       "      <td>92037</td>\n",
       "      <td>4</td>\n",
       "      <td>0.4</td>\n",
       "      <td>1</td>\n",
       "      <td>85</td>\n",
       "      <td>NaN</td>\n",
       "      <td>0</td>\n",
       "      <td>0</td>\n",
       "      <td>0</td>\n",
       "      <td>1.0</td>\n",
       "      <td>0</td>\n",
       "      <td>-1</td>\n",
       "    </tr>\n",
       "    <tr>\n",
       "      <th>4997</th>\n",
       "      <td>4998</td>\n",
       "      <td>63</td>\n",
       "      <td>39</td>\n",
       "      <td>24.0</td>\n",
       "      <td>93023</td>\n",
       "      <td>2</td>\n",
       "      <td>0.3</td>\n",
       "      <td>3</td>\n",
       "      <td>0</td>\n",
       "      <td>NaN</td>\n",
       "      <td>0</td>\n",
       "      <td>0</td>\n",
       "      <td>0</td>\n",
       "      <td>0.0</td>\n",
       "      <td>0</td>\n",
       "      <td>-1</td>\n",
       "    </tr>\n",
       "    <tr>\n",
       "      <th>4998</th>\n",
       "      <td>4999</td>\n",
       "      <td>65</td>\n",
       "      <td>40</td>\n",
       "      <td>49.0</td>\n",
       "      <td>90034</td>\n",
       "      <td>3</td>\n",
       "      <td>0.5</td>\n",
       "      <td>2</td>\n",
       "      <td>0</td>\n",
       "      <td>NaN</td>\n",
       "      <td>0</td>\n",
       "      <td>0</td>\n",
       "      <td>0</td>\n",
       "      <td>1.0</td>\n",
       "      <td>0</td>\n",
       "      <td>-1</td>\n",
       "    </tr>\n",
       "    <tr>\n",
       "      <th>4999</th>\n",
       "      <td>5000</td>\n",
       "      <td>28</td>\n",
       "      <td>4</td>\n",
       "      <td>83.0</td>\n",
       "      <td>92612</td>\n",
       "      <td>3</td>\n",
       "      <td>0.8</td>\n",
       "      <td>1</td>\n",
       "      <td>0</td>\n",
       "      <td>NaN</td>\n",
       "      <td>0</td>\n",
       "      <td>0</td>\n",
       "      <td>0</td>\n",
       "      <td>1.0</td>\n",
       "      <td>1</td>\n",
       "      <td>-1</td>\n",
       "    </tr>\n",
       "  </tbody>\n",
       "</table>\n",
       "<p>4975 rows × 16 columns</p>\n",
       "</div>"
      ],
      "text/plain": [
       "        ID  Age  Experience  Income  ZIP Code  Family  CCAvg  Education  \\\n",
       "0        1   25           1    49.0     91107       4    1.6          1   \n",
       "1        2   45          19    34.0     90089       3    1.5          1   \n",
       "2        3   39          15    11.0     94720       1    1.0          1   \n",
       "3        4   35           9   100.0     94112       1    2.7          2   \n",
       "4        5   35           8    45.0     91330       4    1.0          2   \n",
       "...    ...  ...         ...     ...       ...     ...    ...        ...   \n",
       "4995  4996   29           3    40.0     92697       1    1.9          3   \n",
       "4996  4997   30           4    15.0     92037       4    0.4          1   \n",
       "4997  4998   63          39    24.0     93023       2    0.3          3   \n",
       "4998  4999   65          40    49.0     90034       3    0.5          2   \n",
       "4999  5000   28           4    83.0     92612       3    0.8          1   \n",
       "\n",
       "      Mortgage Home Ownership Personal Loan  Securities Account  CD Account  \\\n",
       "0            0     Home Owner             0                   1           0   \n",
       "1            0           Rent             0                   1           0   \n",
       "2            0           Rent             0                   0           0   \n",
       "3            0           Rent             0                   0           0   \n",
       "4            0           Rent             0                   0           0   \n",
       "...        ...            ...           ...                 ...         ...   \n",
       "4995         0            NaN             0                   0           0   \n",
       "4996        85            NaN             0                   0           0   \n",
       "4997         0            NaN             0                   0           0   \n",
       "4998         0            NaN             0                   0           0   \n",
       "4999         0            NaN             0                   0           0   \n",
       "\n",
       "      Online  CreditCard  Gender_numeric  \n",
       "0        0.0           0               0  \n",
       "1        0.0           0               0  \n",
       "2        0.0           0               0  \n",
       "3        0.0           0               0  \n",
       "4        0.0           1               0  \n",
       "...      ...         ...             ...  \n",
       "4995     1.0           0              -1  \n",
       "4996     1.0           0              -1  \n",
       "4997     0.0           0              -1  \n",
       "4998     1.0           0              -1  \n",
       "4999     1.0           1              -1  \n",
       "\n",
       "[4975 rows x 16 columns]"
      ]
     },
     "execution_count": 316,
     "metadata": {},
     "output_type": "execute_result"
    }
   ],
   "source": [
    "df"
   ]
  },
  {
   "cell_type": "code",
   "execution_count": 317,
   "id": "049b3ad2",
   "metadata": {},
   "outputs": [
    {
     "data": {
      "text/plain": [
       "ID                       0\n",
       "Age                      0\n",
       "Experience               0\n",
       "Income                  67\n",
       "ZIP Code                 0\n",
       "Family                   0\n",
       "CCAvg                    0\n",
       "Education                0\n",
       "Mortgage                 0\n",
       "Home Ownership        1189\n",
       "Personal Loan            0\n",
       "Securities Account       0\n",
       "CD Account               0\n",
       "Online                  40\n",
       "CreditCard               0\n",
       "Gender_numeric           0\n",
       "dtype: int64"
      ]
     },
     "execution_count": 317,
     "metadata": {},
     "output_type": "execute_result"
    }
   ],
   "source": [
    "df.isna().sum()"
   ]
  },
  {
   "cell_type": "markdown",
   "id": "04dd549e",
   "metadata": {},
   "source": [
    "removing the rows with null values that are in Income and online column"
   ]
  },
  {
   "cell_type": "code",
   "execution_count": 318,
   "id": "b8301517",
   "metadata": {},
   "outputs": [],
   "source": [
    "df=df.dropna(subset=['Income','Online'])"
   ]
  },
  {
   "cell_type": "code",
   "execution_count": 319,
   "id": "40230361",
   "metadata": {},
   "outputs": [
    {
     "data": {
      "text/plain": [
       "ID                       0\n",
       "Age                      0\n",
       "Experience               0\n",
       "Income                   0\n",
       "ZIP Code                 0\n",
       "Family                   0\n",
       "CCAvg                    0\n",
       "Education                0\n",
       "Mortgage                 0\n",
       "Home Ownership        1189\n",
       "Personal Loan            0\n",
       "Securities Account       0\n",
       "CD Account               0\n",
       "Online                   0\n",
       "CreditCard               0\n",
       "Gender_numeric           0\n",
       "dtype: int64"
      ]
     },
     "execution_count": 319,
     "metadata": {},
     "output_type": "execute_result"
    }
   ],
   "source": [
    "df.isna().sum()"
   ]
  },
  {
   "cell_type": "code",
   "execution_count": 320,
   "id": "a74a98b0",
   "metadata": {},
   "outputs": [
    {
     "data": {
      "text/plain": [
       "array(['Home Owner', 'Rent', 'Home Mortage', nan], dtype=object)"
      ]
     },
     "execution_count": 320,
     "metadata": {},
     "output_type": "execute_result"
    }
   ],
   "source": [
    "df['Home Ownership'].unique()"
   ]
  },
  {
   "cell_type": "code",
   "execution_count": 321,
   "id": "359dec92",
   "metadata": {},
   "outputs": [
    {
     "data": {
      "text/plain": [
       "<AxesSubplot:xlabel='Home Ownership', ylabel='count'>"
      ]
     },
     "execution_count": 321,
     "metadata": {},
     "output_type": "execute_result"
    },
    {
     "data": {
      "image/png": "[encoded data removed]",
      "text/plain": [
       "<Figure size 640x480 with 1 Axes>"
      ]
     },
     "metadata": {},
     "output_type": "display_data"
    }
   ],
   "source": [
    "sns.countplot(data=df, x='Home Ownership', hue='Personal Loan')"
   ]
  },
  {
   "cell_type": "markdown",
   "id": "46b8efa9",
   "metadata": {},
   "source": [
    "I dont see any relationship so lets remove this column too."
   ]
  },
  {
   "cell_type": "code",
   "execution_count": 322,
   "id": "689eabd6",
   "metadata": {},
   "outputs": [],
   "source": [
    "df['Home Ownership'].fillna('U', inplace=True)"
   ]
  },
  {
   "cell_type": "code",
   "execution_count": 323,
   "id": "9ebad83d",
   "metadata": {},
   "outputs": [],
   "source": [
    "df['HO_numeric'] = df['Home Ownership'].map({'Home Owner': 0, 'Rent Home Onwership': 1, 'Home mortage': 2, 'U': -1})"
   ]
  },
  {
   "cell_type": "code",
   "execution_count": 324,
   "id": "c33ef56f",
   "metadata": {},
   "outputs": [
    {
     "data": {
      "text/plain": [
       "<AxesSubplot:xlabel='Home Ownership', ylabel='count'>"
      ]
     },
     "execution_count": 324,
     "metadata": {},
     "output_type": "execute_result"
    },
    {
     "data": {
      "image/png": "[encoded data removed]",
      "text/plain": [
       "<Figure size 640x480 with 1 Axes>"
      ]
     },
     "metadata": {},
     "output_type": "display_data"
    }
   ],
   "source": [
    "sns.countplot(data=df, x='Home Ownership', hue='Personal Loan')"
   ]
  },
  {
   "cell_type": "code",
   "execution_count": 325,
   "id": "c4927e5d",
   "metadata": {},
   "outputs": [
    {
     "data": {
      "text/html": [
       "<div>\n",
       "<style scoped>\n",
       "    .dataframe tbody tr th:only-of-type {\n",
       "        vertical-align: middle;\n",
       "    }\n",
       "\n",
       "    .dataframe tbody tr th {\n",
       "        vertical-align: top;\n",
       "    }\n",
       "\n",
       "    .dataframe thead th {\n",
       "        text-align: right;\n",
       "    }\n",
       "</style>\n",
       "<table border=\"1\" class=\"dataframe\">\n",
       "  <thead>\n",
       "    <tr style=\"text-align: right;\">\n",
       "      <th></th>\n",
       "      <th>ID</th>\n",
       "      <th>Age</th>\n",
       "      <th>Experience</th>\n",
       "      <th>Income</th>\n",
       "      <th>ZIP Code</th>\n",
       "      <th>Family</th>\n",
       "      <th>CCAvg</th>\n",
       "      <th>Education</th>\n",
       "      <th>Mortgage</th>\n",
       "      <th>Home Ownership</th>\n",
       "      <th>Personal Loan</th>\n",
       "      <th>Securities Account</th>\n",
       "      <th>CD Account</th>\n",
       "      <th>Online</th>\n",
       "      <th>CreditCard</th>\n",
       "      <th>Gender_numeric</th>\n",
       "      <th>HO_numeric</th>\n",
       "    </tr>\n",
       "  </thead>\n",
       "  <tbody>\n",
       "    <tr>\n",
       "      <th>0</th>\n",
       "      <td>1</td>\n",
       "      <td>25</td>\n",
       "      <td>1</td>\n",
       "      <td>49.0</td>\n",
       "      <td>91107</td>\n",
       "      <td>4</td>\n",
       "      <td>1.6</td>\n",
       "      <td>1</td>\n",
       "      <td>0</td>\n",
       "      <td>Home Owner</td>\n",
       "      <td>0</td>\n",
       "      <td>1</td>\n",
       "      <td>0</td>\n",
       "      <td>0.0</td>\n",
       "      <td>0</td>\n",
       "      <td>0</td>\n",
       "      <td>0.0</td>\n",
       "    </tr>\n",
       "    <tr>\n",
       "      <th>1</th>\n",
       "      <td>2</td>\n",
       "      <td>45</td>\n",
       "      <td>19</td>\n",
       "      <td>34.0</td>\n",
       "      <td>90089</td>\n",
       "      <td>3</td>\n",
       "      <td>1.5</td>\n",
       "      <td>1</td>\n",
       "      <td>0</td>\n",
       "      <td>Rent</td>\n",
       "      <td>0</td>\n",
       "      <td>1</td>\n",
       "      <td>0</td>\n",
       "      <td>0.0</td>\n",
       "      <td>0</td>\n",
       "      <td>0</td>\n",
       "      <td>NaN</td>\n",
       "    </tr>\n",
       "    <tr>\n",
       "      <th>2</th>\n",
       "      <td>3</td>\n",
       "      <td>39</td>\n",
       "      <td>15</td>\n",
       "      <td>11.0</td>\n",
       "      <td>94720</td>\n",
       "      <td>1</td>\n",
       "      <td>1.0</td>\n",
       "      <td>1</td>\n",
       "      <td>0</td>\n",
       "      <td>Rent</td>\n",
       "      <td>0</td>\n",
       "      <td>0</td>\n",
       "      <td>0</td>\n",
       "      <td>0.0</td>\n",
       "      <td>0</td>\n",
       "      <td>0</td>\n",
       "      <td>NaN</td>\n",
       "    </tr>\n",
       "    <tr>\n",
       "      <th>3</th>\n",
       "      <td>4</td>\n",
       "      <td>35</td>\n",
       "      <td>9</td>\n",
       "      <td>100.0</td>\n",
       "      <td>94112</td>\n",
       "      <td>1</td>\n",
       "      <td>2.7</td>\n",
       "      <td>2</td>\n",
       "      <td>0</td>\n",
       "      <td>Rent</td>\n",
       "      <td>0</td>\n",
       "      <td>0</td>\n",
       "      <td>0</td>\n",
       "      <td>0.0</td>\n",
       "      <td>0</td>\n",
       "      <td>0</td>\n",
       "      <td>NaN</td>\n",
       "    </tr>\n",
       "    <tr>\n",
       "      <th>4</th>\n",
       "      <td>5</td>\n",
       "      <td>35</td>\n",
       "      <td>8</td>\n",
       "      <td>45.0</td>\n",
       "      <td>91330</td>\n",
       "      <td>4</td>\n",
       "      <td>1.0</td>\n",
       "      <td>2</td>\n",
       "      <td>0</td>\n",
       "      <td>Rent</td>\n",
       "      <td>0</td>\n",
       "      <td>0</td>\n",
       "      <td>0</td>\n",
       "      <td>0.0</td>\n",
       "      <td>1</td>\n",
       "      <td>0</td>\n",
       "      <td>NaN</td>\n",
       "    </tr>\n",
       "    <tr>\n",
       "      <th>...</th>\n",
       "      <td>...</td>\n",
       "      <td>...</td>\n",
       "      <td>...</td>\n",
       "      <td>...</td>\n",
       "      <td>...</td>\n",
       "      <td>...</td>\n",
       "      <td>...</td>\n",
       "      <td>...</td>\n",
       "      <td>...</td>\n",
       "      <td>...</td>\n",
       "      <td>...</td>\n",
       "      <td>...</td>\n",
       "      <td>...</td>\n",
       "      <td>...</td>\n",
       "      <td>...</td>\n",
       "      <td>...</td>\n",
       "      <td>...</td>\n",
       "    </tr>\n",
       "    <tr>\n",
       "      <th>4995</th>\n",
       "      <td>4996</td>\n",
       "      <td>29</td>\n",
       "      <td>3</td>\n",
       "      <td>40.0</td>\n",
       "      <td>92697</td>\n",
       "      <td>1</td>\n",
       "      <td>1.9</td>\n",
       "      <td>3</td>\n",
       "      <td>0</td>\n",
       "      <td>U</td>\n",
       "      <td>0</td>\n",
       "      <td>0</td>\n",
       "      <td>0</td>\n",
       "      <td>1.0</td>\n",
       "      <td>0</td>\n",
       "      <td>-1</td>\n",
       "      <td>-1.0</td>\n",
       "    </tr>\n",
       "    <tr>\n",
       "      <th>4996</th>\n",
       "      <td>4997</td>\n",
       "      <td>30</td>\n",
       "      <td>4</td>\n",
       "      <td>15.0</td>\n",
       "      <td>92037</td>\n",
       "      <td>4</td>\n",
       "      <td>0.4</td>\n",
       "      <td>1</td>\n",
       "      <td>85</td>\n",
       "      <td>U</td>\n",
       "      <td>0</td>\n",
       "      <td>0</td>\n",
       "      <td>0</td>\n",
       "      <td>1.0</td>\n",
       "      <td>0</td>\n",
       "      <td>-1</td>\n",
       "      <td>-1.0</td>\n",
       "    </tr>\n",
       "    <tr>\n",
       "      <th>4997</th>\n",
       "      <td>4998</td>\n",
       "      <td>63</td>\n",
       "      <td>39</td>\n",
       "      <td>24.0</td>\n",
       "      <td>93023</td>\n",
       "      <td>2</td>\n",
       "      <td>0.3</td>\n",
       "      <td>3</td>\n",
       "      <td>0</td>\n",
       "      <td>U</td>\n",
       "      <td>0</td>\n",
       "      <td>0</td>\n",
       "      <td>0</td>\n",
       "      <td>0.0</td>\n",
       "      <td>0</td>\n",
       "      <td>-1</td>\n",
       "      <td>-1.0</td>\n",
       "    </tr>\n",
       "    <tr>\n",
       "      <th>4998</th>\n",
       "      <td>4999</td>\n",
       "      <td>65</td>\n",
       "      <td>40</td>\n",
       "      <td>49.0</td>\n",
       "      <td>90034</td>\n",
       "      <td>3</td>\n",
       "      <td>0.5</td>\n",
       "      <td>2</td>\n",
       "      <td>0</td>\n",
       "      <td>U</td>\n",
       "      <td>0</td>\n",
       "      <td>0</td>\n",
       "      <td>0</td>\n",
       "      <td>1.0</td>\n",
       "      <td>0</td>\n",
       "      <td>-1</td>\n",
       "      <td>-1.0</td>\n",
       "    </tr>\n",
       "    <tr>\n",
       "      <th>4999</th>\n",
       "      <td>5000</td>\n",
       "      <td>28</td>\n",
       "      <td>4</td>\n",
       "      <td>83.0</td>\n",
       "      <td>92612</td>\n",
       "      <td>3</td>\n",
       "      <td>0.8</td>\n",
       "      <td>1</td>\n",
       "      <td>0</td>\n",
       "      <td>U</td>\n",
       "      <td>0</td>\n",
       "      <td>0</td>\n",
       "      <td>0</td>\n",
       "      <td>1.0</td>\n",
       "      <td>1</td>\n",
       "      <td>-1</td>\n",
       "      <td>-1.0</td>\n",
       "    </tr>\n",
       "  </tbody>\n",
       "</table>\n",
       "<p>4870 rows × 17 columns</p>\n",
       "</div>"
      ],
      "text/plain": [
       "        ID  Age  Experience  Income  ZIP Code  Family  CCAvg  Education  \\\n",
       "0        1   25           1    49.0     91107       4    1.6          1   \n",
       "1        2   45          19    34.0     90089       3    1.5          1   \n",
       "2        3   39          15    11.0     94720       1    1.0          1   \n",
       "3        4   35           9   100.0     94112       1    2.7          2   \n",
       "4        5   35           8    45.0     91330       4    1.0          2   \n",
       "...    ...  ...         ...     ...       ...     ...    ...        ...   \n",
       "4995  4996   29           3    40.0     92697       1    1.9          3   \n",
       "4996  4997   30           4    15.0     92037       4    0.4          1   \n",
       "4997  4998   63          39    24.0     93023       2    0.3          3   \n",
       "4998  4999   65          40    49.0     90034       3    0.5          2   \n",
       "4999  5000   28           4    83.0     92612       3    0.8          1   \n",
       "\n",
       "      Mortgage Home Ownership Personal Loan  Securities Account  CD Account  \\\n",
       "0            0     Home Owner             0                   1           0   \n",
       "1            0           Rent             0                   1           0   \n",
       "2            0           Rent             0                   0           0   \n",
       "3            0           Rent             0                   0           0   \n",
       "4            0           Rent             0                   0           0   \n",
       "...        ...            ...           ...                 ...         ...   \n",
       "4995         0              U             0                   0           0   \n",
       "4996        85              U             0                   0           0   \n",
       "4997         0              U             0                   0           0   \n",
       "4998         0              U             0                   0           0   \n",
       "4999         0              U             0                   0           0   \n",
       "\n",
       "      Online  CreditCard  Gender_numeric  HO_numeric  \n",
       "0        0.0           0               0         0.0  \n",
       "1        0.0           0               0         NaN  \n",
       "2        0.0           0               0         NaN  \n",
       "3        0.0           0               0         NaN  \n",
       "4        0.0           1               0         NaN  \n",
       "...      ...         ...             ...         ...  \n",
       "4995     1.0           0              -1        -1.0  \n",
       "4996     1.0           0              -1        -1.0  \n",
       "4997     0.0           0              -1        -1.0  \n",
       "4998     1.0           0              -1        -1.0  \n",
       "4999     1.0           1              -1        -1.0  \n",
       "\n",
       "[4870 rows x 17 columns]"
      ]
     },
     "execution_count": 325,
     "metadata": {},
     "output_type": "execute_result"
    }
   ],
   "source": [
    "df"
   ]
  },
  {
   "cell_type": "markdown",
   "id": "9ceddf27",
   "metadata": {},
   "source": [
    "lets remove unnecessary columns"
   ]
  },
  {
   "cell_type": "code",
   "execution_count": 326,
   "id": "8f069637",
   "metadata": {},
   "outputs": [],
   "source": [
    "df=df.drop(columns=['ID',\"ZIP Code\", 'Gender_numeric','HO_numeric', 'Home Ownership'])"
   ]
  },
  {
   "cell_type": "code",
   "execution_count": 327,
   "id": "bcfa2c4f",
   "metadata": {},
   "outputs": [
    {
     "data": {
      "text/html": [
       "<div>\n",
       "<style scoped>\n",
       "    .dataframe tbody tr th:only-of-type {\n",
       "        vertical-align: middle;\n",
       "    }\n",
       "\n",
       "    .dataframe tbody tr th {\n",
       "        vertical-align: top;\n",
       "    }\n",
       "\n",
       "    .dataframe thead th {\n",
       "        text-align: right;\n",
       "    }\n",
       "</style>\n",
       "<table border=\"1\" class=\"dataframe\">\n",
       "  <thead>\n",
       "    <tr style=\"text-align: right;\">\n",
       "      <th></th>\n",
       "      <th>Age</th>\n",
       "      <th>Experience</th>\n",
       "      <th>Income</th>\n",
       "      <th>Family</th>\n",
       "      <th>CCAvg</th>\n",
       "      <th>Education</th>\n",
       "      <th>Mortgage</th>\n",
       "      <th>Personal Loan</th>\n",
       "      <th>Securities Account</th>\n",
       "      <th>CD Account</th>\n",
       "      <th>Online</th>\n",
       "      <th>CreditCard</th>\n",
       "    </tr>\n",
       "  </thead>\n",
       "  <tbody>\n",
       "    <tr>\n",
       "      <th>0</th>\n",
       "      <td>25</td>\n",
       "      <td>1</td>\n",
       "      <td>49.0</td>\n",
       "      <td>4</td>\n",
       "      <td>1.6</td>\n",
       "      <td>1</td>\n",
       "      <td>0</td>\n",
       "      <td>0</td>\n",
       "      <td>1</td>\n",
       "      <td>0</td>\n",
       "      <td>0.0</td>\n",
       "      <td>0</td>\n",
       "    </tr>\n",
       "    <tr>\n",
       "      <th>1</th>\n",
       "      <td>45</td>\n",
       "      <td>19</td>\n",
       "      <td>34.0</td>\n",
       "      <td>3</td>\n",
       "      <td>1.5</td>\n",
       "      <td>1</td>\n",
       "      <td>0</td>\n",
       "      <td>0</td>\n",
       "      <td>1</td>\n",
       "      <td>0</td>\n",
       "      <td>0.0</td>\n",
       "      <td>0</td>\n",
       "    </tr>\n",
       "    <tr>\n",
       "      <th>2</th>\n",
       "      <td>39</td>\n",
       "      <td>15</td>\n",
       "      <td>11.0</td>\n",
       "      <td>1</td>\n",
       "      <td>1.0</td>\n",
       "      <td>1</td>\n",
       "      <td>0</td>\n",
       "      <td>0</td>\n",
       "      <td>0</td>\n",
       "      <td>0</td>\n",
       "      <td>0.0</td>\n",
       "      <td>0</td>\n",
       "    </tr>\n",
       "    <tr>\n",
       "      <th>3</th>\n",
       "      <td>35</td>\n",
       "      <td>9</td>\n",
       "      <td>100.0</td>\n",
       "      <td>1</td>\n",
       "      <td>2.7</td>\n",
       "      <td>2</td>\n",
       "      <td>0</td>\n",
       "      <td>0</td>\n",
       "      <td>0</td>\n",
       "      <td>0</td>\n",
       "      <td>0.0</td>\n",
       "      <td>0</td>\n",
       "    </tr>\n",
       "    <tr>\n",
       "      <th>4</th>\n",
       "      <td>35</td>\n",
       "      <td>8</td>\n",
       "      <td>45.0</td>\n",
       "      <td>4</td>\n",
       "      <td>1.0</td>\n",
       "      <td>2</td>\n",
       "      <td>0</td>\n",
       "      <td>0</td>\n",
       "      <td>0</td>\n",
       "      <td>0</td>\n",
       "      <td>0.0</td>\n",
       "      <td>1</td>\n",
       "    </tr>\n",
       "    <tr>\n",
       "      <th>...</th>\n",
       "      <td>...</td>\n",
       "      <td>...</td>\n",
       "      <td>...</td>\n",
       "      <td>...</td>\n",
       "      <td>...</td>\n",
       "      <td>...</td>\n",
       "      <td>...</td>\n",
       "      <td>...</td>\n",
       "      <td>...</td>\n",
       "      <td>...</td>\n",
       "      <td>...</td>\n",
       "      <td>...</td>\n",
       "    </tr>\n",
       "    <tr>\n",
       "      <th>4995</th>\n",
       "      <td>29</td>\n",
       "      <td>3</td>\n",
       "      <td>40.0</td>\n",
       "      <td>1</td>\n",
       "      <td>1.9</td>\n",
       "      <td>3</td>\n",
       "      <td>0</td>\n",
       "      <td>0</td>\n",
       "      <td>0</td>\n",
       "      <td>0</td>\n",
       "      <td>1.0</td>\n",
       "      <td>0</td>\n",
       "    </tr>\n",
       "    <tr>\n",
       "      <th>4996</th>\n",
       "      <td>30</td>\n",
       "      <td>4</td>\n",
       "      <td>15.0</td>\n",
       "      <td>4</td>\n",
       "      <td>0.4</td>\n",
       "      <td>1</td>\n",
       "      <td>85</td>\n",
       "      <td>0</td>\n",
       "      <td>0</td>\n",
       "      <td>0</td>\n",
       "      <td>1.0</td>\n",
       "      <td>0</td>\n",
       "    </tr>\n",
       "    <tr>\n",
       "      <th>4997</th>\n",
       "      <td>63</td>\n",
       "      <td>39</td>\n",
       "      <td>24.0</td>\n",
       "      <td>2</td>\n",
       "      <td>0.3</td>\n",
       "      <td>3</td>\n",
       "      <td>0</td>\n",
       "      <td>0</td>\n",
       "      <td>0</td>\n",
       "      <td>0</td>\n",
       "      <td>0.0</td>\n",
       "      <td>0</td>\n",
       "    </tr>\n",
       "    <tr>\n",
       "      <th>4998</th>\n",
       "      <td>65</td>\n",
       "      <td>40</td>\n",
       "      <td>49.0</td>\n",
       "      <td>3</td>\n",
       "      <td>0.5</td>\n",
       "      <td>2</td>\n",
       "      <td>0</td>\n",
       "      <td>0</td>\n",
       "      <td>0</td>\n",
       "      <td>0</td>\n",
       "      <td>1.0</td>\n",
       "      <td>0</td>\n",
       "    </tr>\n",
       "    <tr>\n",
       "      <th>4999</th>\n",
       "      <td>28</td>\n",
       "      <td>4</td>\n",
       "      <td>83.0</td>\n",
       "      <td>3</td>\n",
       "      <td>0.8</td>\n",
       "      <td>1</td>\n",
       "      <td>0</td>\n",
       "      <td>0</td>\n",
       "      <td>0</td>\n",
       "      <td>0</td>\n",
       "      <td>1.0</td>\n",
       "      <td>1</td>\n",
       "    </tr>\n",
       "  </tbody>\n",
       "</table>\n",
       "<p>4870 rows × 12 columns</p>\n",
       "</div>"
      ],
      "text/plain": [
       "      Age  Experience  Income  Family  CCAvg  Education  Mortgage  \\\n",
       "0      25           1    49.0       4    1.6          1         0   \n",
       "1      45          19    34.0       3    1.5          1         0   \n",
       "2      39          15    11.0       1    1.0          1         0   \n",
       "3      35           9   100.0       1    2.7          2         0   \n",
       "4      35           8    45.0       4    1.0          2         0   \n",
       "...   ...         ...     ...     ...    ...        ...       ...   \n",
       "4995   29           3    40.0       1    1.9          3         0   \n",
       "4996   30           4    15.0       4    0.4          1        85   \n",
       "4997   63          39    24.0       2    0.3          3         0   \n",
       "4998   65          40    49.0       3    0.5          2         0   \n",
       "4999   28           4    83.0       3    0.8          1         0   \n",
       "\n",
       "     Personal Loan  Securities Account  CD Account  Online  CreditCard  \n",
       "0                0                   1           0     0.0           0  \n",
       "1                0                   1           0     0.0           0  \n",
       "2                0                   0           0     0.0           0  \n",
       "3                0                   0           0     0.0           0  \n",
       "4                0                   0           0     0.0           1  \n",
       "...            ...                 ...         ...     ...         ...  \n",
       "4995             0                   0           0     1.0           0  \n",
       "4996             0                   0           0     1.0           0  \n",
       "4997             0                   0           0     0.0           0  \n",
       "4998             0                   0           0     1.0           0  \n",
       "4999             0                   0           0     1.0           1  \n",
       "\n",
       "[4870 rows x 12 columns]"
      ]
     },
     "execution_count": 327,
     "metadata": {},
     "output_type": "execute_result"
    }
   ],
   "source": [
    "df"
   ]
  },
  {
   "cell_type": "code",
   "execution_count": 328,
   "id": "1ed34f3d",
   "metadata": {},
   "outputs": [
    {
     "data": {
      "text/plain": [
       "array([0, 1], dtype=object)"
      ]
     },
     "execution_count": 328,
     "metadata": {},
     "output_type": "execute_result"
    }
   ],
   "source": [
    "df['Personal Loan'].unique()"
   ]
  },
  {
   "cell_type": "code",
   "execution_count": 329,
   "id": "f47265c9",
   "metadata": {},
   "outputs": [],
   "source": [
    "df['Personal Loan'] = df['Personal Loan'].astype(int)"
   ]
  },
  {
   "cell_type": "code",
   "execution_count": 330,
   "id": "99bad53c",
   "metadata": {},
   "outputs": [],
   "source": [
    "highest_age = df['Age'].max()\n",
    "lowest_age = df['Age'].min()"
   ]
  },
  {
   "cell_type": "code",
   "execution_count": 331,
   "id": "744bdfff",
   "metadata": {},
   "outputs": [
    {
     "data": {
      "text/plain": [
       "978"
      ]
     },
     "execution_count": 331,
     "metadata": {},
     "output_type": "execute_result"
    }
   ],
   "source": [
    "highest_age"
   ]
  },
  {
   "cell_type": "code",
   "execution_count": 332,
   "id": "5992e709",
   "metadata": {},
   "outputs": [
    {
     "data": {
      "text/plain": [
       "2"
      ]
     },
     "execution_count": 332,
     "metadata": {},
     "output_type": "execute_result"
    }
   ],
   "source": [
    "lowest_age"
   ]
  },
  {
   "cell_type": "code",
   "execution_count": 333,
   "id": "26064751",
   "metadata": {},
   "outputs": [
    {
     "data": {
      "image/png": "[encoded data removed]",
      "text/plain": [
       "<Figure size 400x300 with 1 Axes>"
      ]
     },
     "metadata": {},
     "output_type": "display_data"
    }
   ],
   "source": [
    "plt.figure(figsize=(4, 3))\n",
    "plt.boxplot(df['Age'], vert=False)\n",
    "plt.xlabel('Age')\n",
    "plt.title('Box Plot of Age')\n",
    "plt.show()"
   ]
  },
  {
   "cell_type": "code",
   "execution_count": 334,
   "id": "9742d2e1",
   "metadata": {},
   "outputs": [],
   "source": [
    "count_age_gt_120 = df[df['Age'] > 120].shape[0]"
   ]
  },
  {
   "cell_type": "code",
   "execution_count": 335,
   "id": "81a6efab",
   "metadata": {},
   "outputs": [
    {
     "data": {
      "text/plain": [
       "6"
      ]
     },
     "execution_count": 335,
     "metadata": {},
     "output_type": "execute_result"
    }
   ],
   "source": [
    "count_age_gt_120"
   ]
  },
  {
   "cell_type": "code",
   "execution_count": 336,
   "id": "bb8d5f12",
   "metadata": {},
   "outputs": [],
   "source": [
    "df=df[df['Age'] <= 120]"
   ]
  },
  {
   "cell_type": "code",
   "execution_count": 337,
   "id": "893b7109",
   "metadata": {},
   "outputs": [],
   "source": [
    "count_age_gt_120 = df[df['Age'] < 120].shape[0]"
   ]
  },
  {
   "cell_type": "code",
   "execution_count": 338,
   "id": "963e9837",
   "metadata": {},
   "outputs": [
    {
     "data": {
      "text/plain": [
       "4864"
      ]
     },
     "execution_count": 338,
     "metadata": {},
     "output_type": "execute_result"
    }
   ],
   "source": [
    "count_age_gt_120"
   ]
  },
  {
   "cell_type": "code",
   "execution_count": 339,
   "id": "3b5ec8ef",
   "metadata": {},
   "outputs": [
    {
     "data": {
      "image/png": "[encoded data removed]",
      "text/plain": [
       "<Figure size 400x300 with 1 Axes>"
      ]
     },
     "metadata": {},
     "output_type": "display_data"
    }
   ],
   "source": [
    "plt.figure(figsize=(4, 3))\n",
    "plt.boxplot(df['Age'], vert=False)\n",
    "plt.xlabel('Age')\n",
    "plt.title('Box Plot of Age')\n",
    "plt.show()"
   ]
  },
  {
   "cell_type": "code",
   "execution_count": 340,
   "id": "d2f9638c",
   "metadata": {},
   "outputs": [
    {
     "data": {
      "image/png": "[encoded data removed]",
      "text/plain": [
       "<Figure size 400x300 with 1 Axes>"
      ]
     },
     "metadata": {},
     "output_type": "display_data"
    }
   ],
   "source": [
    "plt.figure(figsize=(4, 3))\n",
    "plt.boxplot(df['Experience'], vert=False)\n",
    "plt.xlabel('Age')\n",
    "plt.title('Box Plot of experience')\n",
    "plt.show()"
   ]
  },
  {
   "cell_type": "code",
   "execution_count": 341,
   "id": "700f77e3",
   "metadata": {},
   "outputs": [
    {
     "data": {
      "text/html": [
       "<div>\n",
       "<style scoped>\n",
       "    .dataframe tbody tr th:only-of-type {\n",
       "        vertical-align: middle;\n",
       "    }\n",
       "\n",
       "    .dataframe tbody tr th {\n",
       "        vertical-align: top;\n",
       "    }\n",
       "\n",
       "    .dataframe thead th {\n",
       "        text-align: right;\n",
       "    }\n",
       "</style>\n",
       "<table border=\"1\" class=\"dataframe\">\n",
       "  <thead>\n",
       "    <tr style=\"text-align: right;\">\n",
       "      <th></th>\n",
       "      <th>Age</th>\n",
       "      <th>Experience</th>\n",
       "      <th>Income</th>\n",
       "      <th>Family</th>\n",
       "      <th>CCAvg</th>\n",
       "      <th>Education</th>\n",
       "      <th>Mortgage</th>\n",
       "      <th>Personal Loan</th>\n",
       "      <th>Securities Account</th>\n",
       "      <th>CD Account</th>\n",
       "      <th>Online</th>\n",
       "      <th>CreditCard</th>\n",
       "    </tr>\n",
       "  </thead>\n",
       "  <tbody>\n",
       "    <tr>\n",
       "      <th>0</th>\n",
       "      <td>25</td>\n",
       "      <td>1</td>\n",
       "      <td>49.0</td>\n",
       "      <td>4</td>\n",
       "      <td>1.6</td>\n",
       "      <td>1</td>\n",
       "      <td>0</td>\n",
       "      <td>0</td>\n",
       "      <td>1</td>\n",
       "      <td>0</td>\n",
       "      <td>0.0</td>\n",
       "      <td>0</td>\n",
       "    </tr>\n",
       "    <tr>\n",
       "      <th>1</th>\n",
       "      <td>45</td>\n",
       "      <td>19</td>\n",
       "      <td>34.0</td>\n",
       "      <td>3</td>\n",
       "      <td>1.5</td>\n",
       "      <td>1</td>\n",
       "      <td>0</td>\n",
       "      <td>0</td>\n",
       "      <td>1</td>\n",
       "      <td>0</td>\n",
       "      <td>0.0</td>\n",
       "      <td>0</td>\n",
       "    </tr>\n",
       "    <tr>\n",
       "      <th>2</th>\n",
       "      <td>39</td>\n",
       "      <td>15</td>\n",
       "      <td>11.0</td>\n",
       "      <td>1</td>\n",
       "      <td>1.0</td>\n",
       "      <td>1</td>\n",
       "      <td>0</td>\n",
       "      <td>0</td>\n",
       "      <td>0</td>\n",
       "      <td>0</td>\n",
       "      <td>0.0</td>\n",
       "      <td>0</td>\n",
       "    </tr>\n",
       "    <tr>\n",
       "      <th>3</th>\n",
       "      <td>35</td>\n",
       "      <td>9</td>\n",
       "      <td>100.0</td>\n",
       "      <td>1</td>\n",
       "      <td>2.7</td>\n",
       "      <td>2</td>\n",
       "      <td>0</td>\n",
       "      <td>0</td>\n",
       "      <td>0</td>\n",
       "      <td>0</td>\n",
       "      <td>0.0</td>\n",
       "      <td>0</td>\n",
       "    </tr>\n",
       "    <tr>\n",
       "      <th>4</th>\n",
       "      <td>35</td>\n",
       "      <td>8</td>\n",
       "      <td>45.0</td>\n",
       "      <td>4</td>\n",
       "      <td>1.0</td>\n",
       "      <td>2</td>\n",
       "      <td>0</td>\n",
       "      <td>0</td>\n",
       "      <td>0</td>\n",
       "      <td>0</td>\n",
       "      <td>0.0</td>\n",
       "      <td>1</td>\n",
       "    </tr>\n",
       "    <tr>\n",
       "      <th>...</th>\n",
       "      <td>...</td>\n",
       "      <td>...</td>\n",
       "      <td>...</td>\n",
       "      <td>...</td>\n",
       "      <td>...</td>\n",
       "      <td>...</td>\n",
       "      <td>...</td>\n",
       "      <td>...</td>\n",
       "      <td>...</td>\n",
       "      <td>...</td>\n",
       "      <td>...</td>\n",
       "      <td>...</td>\n",
       "    </tr>\n",
       "    <tr>\n",
       "      <th>4995</th>\n",
       "      <td>29</td>\n",
       "      <td>3</td>\n",
       "      <td>40.0</td>\n",
       "      <td>1</td>\n",
       "      <td>1.9</td>\n",
       "      <td>3</td>\n",
       "      <td>0</td>\n",
       "      <td>0</td>\n",
       "      <td>0</td>\n",
       "      <td>0</td>\n",
       "      <td>1.0</td>\n",
       "      <td>0</td>\n",
       "    </tr>\n",
       "    <tr>\n",
       "      <th>4996</th>\n",
       "      <td>30</td>\n",
       "      <td>4</td>\n",
       "      <td>15.0</td>\n",
       "      <td>4</td>\n",
       "      <td>0.4</td>\n",
       "      <td>1</td>\n",
       "      <td>85</td>\n",
       "      <td>0</td>\n",
       "      <td>0</td>\n",
       "      <td>0</td>\n",
       "      <td>1.0</td>\n",
       "      <td>0</td>\n",
       "    </tr>\n",
       "    <tr>\n",
       "      <th>4997</th>\n",
       "      <td>63</td>\n",
       "      <td>39</td>\n",
       "      <td>24.0</td>\n",
       "      <td>2</td>\n",
       "      <td>0.3</td>\n",
       "      <td>3</td>\n",
       "      <td>0</td>\n",
       "      <td>0</td>\n",
       "      <td>0</td>\n",
       "      <td>0</td>\n",
       "      <td>0.0</td>\n",
       "      <td>0</td>\n",
       "    </tr>\n",
       "    <tr>\n",
       "      <th>4998</th>\n",
       "      <td>65</td>\n",
       "      <td>40</td>\n",
       "      <td>49.0</td>\n",
       "      <td>3</td>\n",
       "      <td>0.5</td>\n",
       "      <td>2</td>\n",
       "      <td>0</td>\n",
       "      <td>0</td>\n",
       "      <td>0</td>\n",
       "      <td>0</td>\n",
       "      <td>1.0</td>\n",
       "      <td>0</td>\n",
       "    </tr>\n",
       "    <tr>\n",
       "      <th>4999</th>\n",
       "      <td>28</td>\n",
       "      <td>4</td>\n",
       "      <td>83.0</td>\n",
       "      <td>3</td>\n",
       "      <td>0.8</td>\n",
       "      <td>1</td>\n",
       "      <td>0</td>\n",
       "      <td>0</td>\n",
       "      <td>0</td>\n",
       "      <td>0</td>\n",
       "      <td>1.0</td>\n",
       "      <td>1</td>\n",
       "    </tr>\n",
       "  </tbody>\n",
       "</table>\n",
       "<p>4864 rows × 12 columns</p>\n",
       "</div>"
      ],
      "text/plain": [
       "      Age  Experience  Income  Family  CCAvg  Education  Mortgage  \\\n",
       "0      25           1    49.0       4    1.6          1         0   \n",
       "1      45          19    34.0       3    1.5          1         0   \n",
       "2      39          15    11.0       1    1.0          1         0   \n",
       "3      35           9   100.0       1    2.7          2         0   \n",
       "4      35           8    45.0       4    1.0          2         0   \n",
       "...   ...         ...     ...     ...    ...        ...       ...   \n",
       "4995   29           3    40.0       1    1.9          3         0   \n",
       "4996   30           4    15.0       4    0.4          1        85   \n",
       "4997   63          39    24.0       2    0.3          3         0   \n",
       "4998   65          40    49.0       3    0.5          2         0   \n",
       "4999   28           4    83.0       3    0.8          1         0   \n",
       "\n",
       "      Personal Loan  Securities Account  CD Account  Online  CreditCard  \n",
       "0                 0                   1           0     0.0           0  \n",
       "1                 0                   1           0     0.0           0  \n",
       "2                 0                   0           0     0.0           0  \n",
       "3                 0                   0           0     0.0           0  \n",
       "4                 0                   0           0     0.0           1  \n",
       "...             ...                 ...         ...     ...         ...  \n",
       "4995              0                   0           0     1.0           0  \n",
       "4996              0                   0           0     1.0           0  \n",
       "4997              0                   0           0     0.0           0  \n",
       "4998              0                   0           0     1.0           0  \n",
       "4999              0                   0           0     1.0           1  \n",
       "\n",
       "[4864 rows x 12 columns]"
      ]
     },
     "execution_count": 341,
     "metadata": {},
     "output_type": "execute_result"
    }
   ],
   "source": [
    "df"
   ]
  },
  {
   "cell_type": "markdown",
   "id": "78befab4",
   "metadata": {},
   "source": [
    "## Scaling"
   ]
  },
  {
   "cell_type": "markdown",
   "id": "b229ed58",
   "metadata": {},
   "source": [
    "Scaling using standardscaler. Its basically z-score normalization.\n",
    "z=(x-u)/sd where x=value, u=mean(0), rho=standard deviation(1)"
   ]
  },
  {
   "cell_type": "code",
   "execution_count": 342,
   "id": "9cb8d0a5",
   "metadata": {},
   "outputs": [],
   "source": [
    "from sklearn.preprocessing import StandardScaler\n",
    "columns_to_normalize = [\"Age\", \"Experience\", \"Income\", \"Family\", \"CCAvg\", \"Education\", \"Mortgage\", \"Securities Account\", \"CD Account\", \"Online\"]\n",
    "scaler = StandardScaler()\n",
    "df[columns_to_normalize] = scaler.fit_transform(df[columns_to_normalize])"
   ]
  },
  {
   "cell_type": "code",
   "execution_count": 343,
   "id": "b58e10bd",
   "metadata": {},
   "outputs": [
    {
     "data": {
      "text/html": [
       "<div>\n",
       "<style scoped>\n",
       "    .dataframe tbody tr th:only-of-type {\n",
       "        vertical-align: middle;\n",
       "    }\n",
       "\n",
       "    .dataframe tbody tr th {\n",
       "        vertical-align: top;\n",
       "    }\n",
       "\n",
       "    .dataframe thead th {\n",
       "        text-align: right;\n",
       "    }\n",
       "</style>\n",
       "<table border=\"1\" class=\"dataframe\">\n",
       "  <thead>\n",
       "    <tr style=\"text-align: right;\">\n",
       "      <th></th>\n",
       "      <th>Age</th>\n",
       "      <th>Experience</th>\n",
       "      <th>Income</th>\n",
       "      <th>Family</th>\n",
       "      <th>CCAvg</th>\n",
       "      <th>Education</th>\n",
       "      <th>Mortgage</th>\n",
       "      <th>Personal Loan</th>\n",
       "      <th>Securities Account</th>\n",
       "      <th>CD Account</th>\n",
       "      <th>Online</th>\n",
       "      <th>CreditCard</th>\n",
       "    </tr>\n",
       "  </thead>\n",
       "  <tbody>\n",
       "    <tr>\n",
       "      <th>0</th>\n",
       "      <td>-1.759612</td>\n",
       "      <td>-1.666902</td>\n",
       "      <td>-0.514732</td>\n",
       "      <td>1.406927</td>\n",
       "      <td>-0.173648</td>\n",
       "      <td>-1.036886</td>\n",
       "      <td>-0.556841</td>\n",
       "      <td>0</td>\n",
       "      <td>2.915476</td>\n",
       "      <td>-0.239085</td>\n",
       "      <td>-1.215664</td>\n",
       "      <td>0</td>\n",
       "    </tr>\n",
       "    <tr>\n",
       "      <th>1</th>\n",
       "      <td>-0.027965</td>\n",
       "      <td>-0.097361</td>\n",
       "      <td>-0.847526</td>\n",
       "      <td>0.534726</td>\n",
       "      <td>-0.232120</td>\n",
       "      <td>-1.036886</td>\n",
       "      <td>-0.556841</td>\n",
       "      <td>0</td>\n",
       "      <td>2.915476</td>\n",
       "      <td>-0.239085</td>\n",
       "      <td>-1.215664</td>\n",
       "      <td>0</td>\n",
       "    </tr>\n",
       "    <tr>\n",
       "      <th>2</th>\n",
       "      <td>-0.547459</td>\n",
       "      <td>-0.446148</td>\n",
       "      <td>-1.357810</td>\n",
       "      <td>-1.209678</td>\n",
       "      <td>-0.524481</td>\n",
       "      <td>-1.036886</td>\n",
       "      <td>-0.556841</td>\n",
       "      <td>0</td>\n",
       "      <td>-0.342997</td>\n",
       "      <td>-0.239085</td>\n",
       "      <td>-1.215664</td>\n",
       "      <td>0</td>\n",
       "    </tr>\n",
       "    <tr>\n",
       "      <th>3</th>\n",
       "      <td>-0.893788</td>\n",
       "      <td>-0.969329</td>\n",
       "      <td>0.616768</td>\n",
       "      <td>-1.209678</td>\n",
       "      <td>0.469547</td>\n",
       "      <td>0.154003</td>\n",
       "      <td>-0.556841</td>\n",
       "      <td>0</td>\n",
       "      <td>-0.342997</td>\n",
       "      <td>-0.239085</td>\n",
       "      <td>-1.215664</td>\n",
       "      <td>0</td>\n",
       "    </tr>\n",
       "    <tr>\n",
       "      <th>4</th>\n",
       "      <td>-0.893788</td>\n",
       "      <td>-1.056525</td>\n",
       "      <td>-0.603477</td>\n",
       "      <td>1.406927</td>\n",
       "      <td>-0.524481</td>\n",
       "      <td>0.154003</td>\n",
       "      <td>-0.556841</td>\n",
       "      <td>0</td>\n",
       "      <td>-0.342997</td>\n",
       "      <td>-0.239085</td>\n",
       "      <td>-1.215664</td>\n",
       "      <td>1</td>\n",
       "    </tr>\n",
       "    <tr>\n",
       "      <th>...</th>\n",
       "      <td>...</td>\n",
       "      <td>...</td>\n",
       "      <td>...</td>\n",
       "      <td>...</td>\n",
       "      <td>...</td>\n",
       "      <td>...</td>\n",
       "      <td>...</td>\n",
       "      <td>...</td>\n",
       "      <td>...</td>\n",
       "      <td>...</td>\n",
       "      <td>...</td>\n",
       "      <td>...</td>\n",
       "    </tr>\n",
       "    <tr>\n",
       "      <th>4995</th>\n",
       "      <td>-1.413283</td>\n",
       "      <td>-1.492509</td>\n",
       "      <td>-0.714408</td>\n",
       "      <td>-1.209678</td>\n",
       "      <td>0.001769</td>\n",
       "      <td>1.344892</td>\n",
       "      <td>-0.556841</td>\n",
       "      <td>0</td>\n",
       "      <td>-0.342997</td>\n",
       "      <td>-0.239085</td>\n",
       "      <td>0.822595</td>\n",
       "      <td>0</td>\n",
       "    </tr>\n",
       "    <tr>\n",
       "      <th>4996</th>\n",
       "      <td>-1.326700</td>\n",
       "      <td>-1.405312</td>\n",
       "      <td>-1.269065</td>\n",
       "      <td>1.406927</td>\n",
       "      <td>-0.875314</td>\n",
       "      <td>-1.036886</td>\n",
       "      <td>0.297704</td>\n",
       "      <td>0</td>\n",
       "      <td>-0.342997</td>\n",
       "      <td>-0.239085</td>\n",
       "      <td>0.822595</td>\n",
       "      <td>0</td>\n",
       "    </tr>\n",
       "    <tr>\n",
       "      <th>4997</th>\n",
       "      <td>1.530518</td>\n",
       "      <td>1.646573</td>\n",
       "      <td>-1.069389</td>\n",
       "      <td>-0.337476</td>\n",
       "      <td>-0.933787</td>\n",
       "      <td>1.344892</td>\n",
       "      <td>-0.556841</td>\n",
       "      <td>0</td>\n",
       "      <td>-0.342997</td>\n",
       "      <td>-0.239085</td>\n",
       "      <td>-1.215664</td>\n",
       "      <td>0</td>\n",
       "    </tr>\n",
       "    <tr>\n",
       "      <th>4998</th>\n",
       "      <td>1.703683</td>\n",
       "      <td>1.733770</td>\n",
       "      <td>-0.514732</td>\n",
       "      <td>0.534726</td>\n",
       "      <td>-0.816842</td>\n",
       "      <td>0.154003</td>\n",
       "      <td>-0.556841</td>\n",
       "      <td>0</td>\n",
       "      <td>-0.342997</td>\n",
       "      <td>-0.239085</td>\n",
       "      <td>0.822595</td>\n",
       "      <td>0</td>\n",
       "    </tr>\n",
       "    <tr>\n",
       "      <th>4999</th>\n",
       "      <td>-1.499865</td>\n",
       "      <td>-1.405312</td>\n",
       "      <td>0.239602</td>\n",
       "      <td>0.534726</td>\n",
       "      <td>-0.641425</td>\n",
       "      <td>-1.036886</td>\n",
       "      <td>-0.556841</td>\n",
       "      <td>0</td>\n",
       "      <td>-0.342997</td>\n",
       "      <td>-0.239085</td>\n",
       "      <td>0.822595</td>\n",
       "      <td>1</td>\n",
       "    </tr>\n",
       "  </tbody>\n",
       "</table>\n",
       "<p>4864 rows × 12 columns</p>\n",
       "</div>"
      ],
      "text/plain": [
       "           Age  Experience    Income    Family     CCAvg  Education  Mortgage  \\\n",
       "0    -1.759612   -1.666902 -0.514732  1.406927 -0.173648  -1.036886 -0.556841   \n",
       "1    -0.027965   -0.097361 -0.847526  0.534726 -0.232120  -1.036886 -0.556841   \n",
       "2    -0.547459   -0.446148 -1.357810 -1.209678 -0.524481  -1.036886 -0.556841   \n",
       "3    -0.893788   -0.969329  0.616768 -1.209678  0.469547   0.154003 -0.556841   \n",
       "4    -0.893788   -1.056525 -0.603477  1.406927 -0.524481   0.154003 -0.556841   \n",
       "...        ...         ...       ...       ...       ...        ...       ...   \n",
       "4995 -1.413283   -1.492509 -0.714408 -1.209678  0.001769   1.344892 -0.556841   \n",
       "4996 -1.326700   -1.405312 -1.269065  1.406927 -0.875314  -1.036886  0.297704   \n",
       "4997  1.530518    1.646573 -1.069389 -0.337476 -0.933787   1.344892 -0.556841   \n",
       "4998  1.703683    1.733770 -0.514732  0.534726 -0.816842   0.154003 -0.556841   \n",
       "4999 -1.499865   -1.405312  0.239602  0.534726 -0.641425  -1.036886 -0.556841   \n",
       "\n",
       "      Personal Loan  Securities Account  CD Account    Online  CreditCard  \n",
       "0                 0            2.915476   -0.239085 -1.215664           0  \n",
       "1                 0            2.915476   -0.239085 -1.215664           0  \n",
       "2                 0           -0.342997   -0.239085 -1.215664           0  \n",
       "3                 0           -0.342997   -0.239085 -1.215664           0  \n",
       "4                 0           -0.342997   -0.239085 -1.215664           1  \n",
       "...             ...                 ...         ...       ...         ...  \n",
       "4995              0           -0.342997   -0.239085  0.822595           0  \n",
       "4996              0           -0.342997   -0.239085  0.822595           0  \n",
       "4997              0           -0.342997   -0.239085 -1.215664           0  \n",
       "4998              0           -0.342997   -0.239085  0.822595           0  \n",
       "4999              0           -0.342997   -0.239085  0.822595           1  \n",
       "\n",
       "[4864 rows x 12 columns]"
      ]
     },
     "execution_count": 343,
     "metadata": {},
     "output_type": "execute_result"
    }
   ],
   "source": [
    "df"
   ]
  },
  {
   "cell_type": "code",
   "execution_count": 366,
   "id": "0c4a5b23",
   "metadata": {},
   "outputs": [
    {
     "data": {
      "image/png": "[encoded data removed]",
      "text/plain": [
       "<Figure size 1000x1000 with 2 Axes>"
      ]
     },
     "metadata": {},
     "output_type": "display_data"
    }
   ],
   "source": [
    "import seaborn as sns\n",
    "cor = df.corr()\n",
    "top_corr_features = cor.index\n",
    "plt.figure(figsize=(10,10))\n",
    "sns=sns.heatmap(df[top_corr_features].corr(), annot=True)"
   ]
  },
  {
   "cell_type": "markdown",
   "id": "0e250b5c",
   "metadata": {},
   "source": [
    "## Checking if the target is balance or not"
   ]
  },
  {
   "cell_type": "code",
   "execution_count": 345,
   "id": "e468b10d",
   "metadata": {},
   "outputs": [
    {
     "data": {
      "text/plain": [
       "0    4496\n",
       "1     368\n",
       "Name: Personal Loan, dtype: int64"
      ]
     },
     "execution_count": 345,
     "metadata": {},
     "output_type": "execute_result"
    }
   ],
   "source": [
    "count=df['Personal Loan'].value_counts()\n",
    "count"
   ]
  },
  {
   "cell_type": "code",
   "execution_count": 346,
   "id": "9568ed01",
   "metadata": {},
   "outputs": [
    {
     "data": {
      "text/plain": [
       "<AxesSubplot:>"
      ]
     },
     "execution_count": 346,
     "metadata": {},
     "output_type": "execute_result"
    },
    {
     "data": {
      "image/png": "[encoded data removed]",
      "text/plain": [
       "<Figure size 640x480 with 1 Axes>"
      ]
     },
     "metadata": {},
     "output_type": "display_data"
    }
   ],
   "source": [
    "count.plot(kind='bar')"
   ]
  },
  {
   "cell_type": "markdown",
   "id": "af059224",
   "metadata": {},
   "source": [
    "Here, we can see huge class imbalance in the dataset. So common approaches to address this imbalance is to apply resampling techniques ie oversampling or undersampling.  \n",
    "Oversampling: Duplicate samples from the minority class to balance the class distribution.  \n",
    "Undersampling: Reduce the number of samples from the majority class to balance the class distribution."
   ]
  },
  {
   "cell_type": "markdown",
   "id": "6ed0dd8c",
   "metadata": {},
   "source": [
    "Let's proceed with a single technique for handling imbalanced classes. I will be doing oversampling with resample of sci-kit learn."
   ]
  },
  {
   "cell_type": "code",
   "execution_count": 347,
   "id": "0bd89a1f",
   "metadata": {},
   "outputs": [
    {
     "name": "stdout",
     "output_type": "stream",
     "text": [
      "1    4496\n",
      "0    4496\n",
      "Name: Personal Loan, dtype: int64\n"
     ]
    }
   ],
   "source": [
    "from sklearn.utils import resample\n",
    "\n",
    "majority_class = df[df['Personal Loan'] == 0]\n",
    "minority_class = df[df['Personal Loan'] == 1]\n",
    "\n",
    "# Oversampling the minority class\n",
    "oversampled_minority = resample(minority_class, replace=True, n_samples=len(majority_class), random_state=40)\n",
    "\n",
    "# Combine oversampled minority class with majority class\n",
    "oversampled_df = pd.concat([majority_class, oversampled_minority])\n",
    "\n",
    "# Shuffle the dataset\n",
    "oversampled_df = oversampled_df.sample(frac=1, random_state=40).reset_index(drop=True)\n",
    "\n",
    "# Check the class distribution\n",
    "print(oversampled_df['Personal Loan'].value_counts())\n"
   ]
  },
  {
   "cell_type": "code",
   "execution_count": 348,
   "id": "81f6103e",
   "metadata": {},
   "outputs": [
    {
     "data": {
      "text/plain": [
       "1    4496\n",
       "0    4496\n",
       "Name: Personal Loan, dtype: int64"
      ]
     },
     "execution_count": 348,
     "metadata": {},
     "output_type": "execute_result"
    }
   ],
   "source": [
    "oversample_count=oversampled_df['Personal Loan'].value_counts()\n",
    "oversample_count"
   ]
  },
  {
   "cell_type": "code",
   "execution_count": 349,
   "id": "5ac64912",
   "metadata": {},
   "outputs": [
    {
     "data": {
      "text/plain": [
       "<AxesSubplot:>"
      ]
     },
     "execution_count": 349,
     "metadata": {},
     "output_type": "execute_result"
    },
    {
     "data": {
      "image/png": "[encoded data removed]",
      "text/plain": [
       "<Figure size 640x480 with 1 Axes>"
      ]
     },
     "metadata": {},
     "output_type": "display_data"
    }
   ],
   "source": [
    "oversample_count.plot(kind='bar')"
   ]
  },
  {
   "cell_type": "markdown",
   "id": "6e3b790c",
   "metadata": {},
   "source": [
    "Heatmap showing the correation between each attributes"
   ]
  },
  {
   "cell_type": "code",
   "execution_count": 350,
   "id": "aa449792",
   "metadata": {},
   "outputs": [],
   "source": [
    "df1=oversampled_df"
   ]
  },
  {
   "cell_type": "markdown",
   "id": "4fd2809e",
   "metadata": {},
   "source": [
    "## Applying Logistic regression"
   ]
  },
  {
   "cell_type": "code",
   "execution_count": 351,
   "id": "644efc12",
   "metadata": {},
   "outputs": [],
   "source": [
    "y=df1[\"Personal Loan\"]\n",
    "X=df1.drop([\"Personal Loan\"], axis=1)"
   ]
  },
  {
   "cell_type": "code",
   "execution_count": 352,
   "id": "6d3c2af9",
   "metadata": {},
   "outputs": [
    {
     "data": {
      "text/html": [
       "<div>\n",
       "<style scoped>\n",
       "    .dataframe tbody tr th:only-of-type {\n",
       "        vertical-align: middle;\n",
       "    }\n",
       "\n",
       "    .dataframe tbody tr th {\n",
       "        vertical-align: top;\n",
       "    }\n",
       "\n",
       "    .dataframe thead th {\n",
       "        text-align: right;\n",
       "    }\n",
       "</style>\n",
       "<table border=\"1\" class=\"dataframe\">\n",
       "  <thead>\n",
       "    <tr style=\"text-align: right;\">\n",
       "      <th></th>\n",
       "      <th>Age</th>\n",
       "      <th>Experience</th>\n",
       "      <th>Income</th>\n",
       "      <th>Family</th>\n",
       "      <th>CCAvg</th>\n",
       "      <th>Education</th>\n",
       "      <th>Mortgage</th>\n",
       "      <th>Securities Account</th>\n",
       "      <th>CD Account</th>\n",
       "      <th>Online</th>\n",
       "      <th>CreditCard</th>\n",
       "    </tr>\n",
       "  </thead>\n",
       "  <tbody>\n",
       "    <tr>\n",
       "      <th>0</th>\n",
       "      <td>1.357353</td>\n",
       "      <td>0.948999</td>\n",
       "      <td>1.282357</td>\n",
       "      <td>-0.337476</td>\n",
       "      <td>0.411075</td>\n",
       "      <td>1.344892</td>\n",
       "      <td>-0.556841</td>\n",
       "      <td>-0.342997</td>\n",
       "      <td>-0.239085</td>\n",
       "      <td>-1.215664</td>\n",
       "      <td>0</td>\n",
       "    </tr>\n",
       "    <tr>\n",
       "      <th>1</th>\n",
       "      <td>1.617100</td>\n",
       "      <td>1.733770</td>\n",
       "      <td>0.439278</td>\n",
       "      <td>-0.337476</td>\n",
       "      <td>-1.109203</td>\n",
       "      <td>1.344892</td>\n",
       "      <td>1.303050</td>\n",
       "      <td>2.915476</td>\n",
       "      <td>-0.239085</td>\n",
       "      <td>0.822595</td>\n",
       "      <td>0</td>\n",
       "    </tr>\n",
       "    <tr>\n",
       "      <th>2</th>\n",
       "      <td>-1.153536</td>\n",
       "      <td>-1.230919</td>\n",
       "      <td>0.883004</td>\n",
       "      <td>1.406927</td>\n",
       "      <td>-0.056703</td>\n",
       "      <td>0.154003</td>\n",
       "      <td>-0.556841</td>\n",
       "      <td>-0.342997</td>\n",
       "      <td>-0.239085</td>\n",
       "      <td>0.822595</td>\n",
       "      <td>0</td>\n",
       "    </tr>\n",
       "    <tr>\n",
       "      <th>3</th>\n",
       "      <td>-0.027965</td>\n",
       "      <td>-0.097361</td>\n",
       "      <td>1.104867</td>\n",
       "      <td>1.406927</td>\n",
       "      <td>1.288158</td>\n",
       "      <td>0.154003</td>\n",
       "      <td>-0.556841</td>\n",
       "      <td>-0.342997</td>\n",
       "      <td>-0.239085</td>\n",
       "      <td>0.822595</td>\n",
       "      <td>0</td>\n",
       "    </tr>\n",
       "    <tr>\n",
       "      <th>4</th>\n",
       "      <td>0.231782</td>\n",
       "      <td>0.164229</td>\n",
       "      <td>0.927376</td>\n",
       "      <td>-1.209678</td>\n",
       "      <td>0.294130</td>\n",
       "      <td>1.344892</td>\n",
       "      <td>-0.556841</td>\n",
       "      <td>-0.342997</td>\n",
       "      <td>-0.239085</td>\n",
       "      <td>0.822595</td>\n",
       "      <td>0</td>\n",
       "    </tr>\n",
       "    <tr>\n",
       "      <th>...</th>\n",
       "      <td>...</td>\n",
       "      <td>...</td>\n",
       "      <td>...</td>\n",
       "      <td>...</td>\n",
       "      <td>...</td>\n",
       "      <td>...</td>\n",
       "      <td>...</td>\n",
       "      <td>...</td>\n",
       "      <td>...</td>\n",
       "      <td>...</td>\n",
       "      <td>...</td>\n",
       "    </tr>\n",
       "    <tr>\n",
       "      <th>8987</th>\n",
       "      <td>0.578112</td>\n",
       "      <td>0.687409</td>\n",
       "      <td>2.125435</td>\n",
       "      <td>0.534726</td>\n",
       "      <td>2.691492</td>\n",
       "      <td>1.344892</td>\n",
       "      <td>0.629468</td>\n",
       "      <td>-0.342997</td>\n",
       "      <td>-0.239085</td>\n",
       "      <td>0.822595</td>\n",
       "      <td>0</td>\n",
       "    </tr>\n",
       "    <tr>\n",
       "      <th>8988</th>\n",
       "      <td>1.097606</td>\n",
       "      <td>1.036196</td>\n",
       "      <td>-0.625663</td>\n",
       "      <td>-1.209678</td>\n",
       "      <td>-0.641425</td>\n",
       "      <td>0.154003</td>\n",
       "      <td>-0.556841</td>\n",
       "      <td>-0.342997</td>\n",
       "      <td>-0.239085</td>\n",
       "      <td>-1.215664</td>\n",
       "      <td>0</td>\n",
       "    </tr>\n",
       "    <tr>\n",
       "      <th>8989</th>\n",
       "      <td>-1.673030</td>\n",
       "      <td>-1.754099</td>\n",
       "      <td>1.326729</td>\n",
       "      <td>0.534726</td>\n",
       "      <td>2.691492</td>\n",
       "      <td>1.344892</td>\n",
       "      <td>-0.556841</td>\n",
       "      <td>-0.342997</td>\n",
       "      <td>-0.239085</td>\n",
       "      <td>-1.215664</td>\n",
       "      <td>1</td>\n",
       "    </tr>\n",
       "    <tr>\n",
       "      <th>8990</th>\n",
       "      <td>0.751276</td>\n",
       "      <td>0.687409</td>\n",
       "      <td>2.169808</td>\n",
       "      <td>-0.337476</td>\n",
       "      <td>2.516075</td>\n",
       "      <td>0.154003</td>\n",
       "      <td>2.710534</td>\n",
       "      <td>-0.342997</td>\n",
       "      <td>-0.239085</td>\n",
       "      <td>0.822595</td>\n",
       "      <td>0</td>\n",
       "    </tr>\n",
       "    <tr>\n",
       "      <th>8991</th>\n",
       "      <td>1.703683</td>\n",
       "      <td>1.646573</td>\n",
       "      <td>1.947945</td>\n",
       "      <td>1.406927</td>\n",
       "      <td>1.112742</td>\n",
       "      <td>-1.036886</td>\n",
       "      <td>1.825830</td>\n",
       "      <td>-0.342997</td>\n",
       "      <td>-0.239085</td>\n",
       "      <td>0.822595</td>\n",
       "      <td>0</td>\n",
       "    </tr>\n",
       "  </tbody>\n",
       "</table>\n",
       "<p>8992 rows × 11 columns</p>\n",
       "</div>"
      ],
      "text/plain": [
       "           Age  Experience    Income    Family     CCAvg  Education  Mortgage  \\\n",
       "0     1.357353    0.948999  1.282357 -0.337476  0.411075   1.344892 -0.556841   \n",
       "1     1.617100    1.733770  0.439278 -0.337476 -1.109203   1.344892  1.303050   \n",
       "2    -1.153536   -1.230919  0.883004  1.406927 -0.056703   0.154003 -0.556841   \n",
       "3    -0.027965   -0.097361  1.104867  1.406927  1.288158   0.154003 -0.556841   \n",
       "4     0.231782    0.164229  0.927376 -1.209678  0.294130   1.344892 -0.556841   \n",
       "...        ...         ...       ...       ...       ...        ...       ...   \n",
       "8987  0.578112    0.687409  2.125435  0.534726  2.691492   1.344892  0.629468   \n",
       "8988  1.097606    1.036196 -0.625663 -1.209678 -0.641425   0.154003 -0.556841   \n",
       "8989 -1.673030   -1.754099  1.326729  0.534726  2.691492   1.344892 -0.556841   \n",
       "8990  0.751276    0.687409  2.169808 -0.337476  2.516075   0.154003  2.710534   \n",
       "8991  1.703683    1.646573  1.947945  1.406927  1.112742  -1.036886  1.825830   \n",
       "\n",
       "      Securities Account  CD Account    Online  CreditCard  \n",
       "0              -0.342997   -0.239085 -1.215664           0  \n",
       "1               2.915476   -0.239085  0.822595           0  \n",
       "2              -0.342997   -0.239085  0.822595           0  \n",
       "3              -0.342997   -0.239085  0.822595           0  \n",
       "4              -0.342997   -0.239085  0.822595           0  \n",
       "...                  ...         ...       ...         ...  \n",
       "8987           -0.342997   -0.239085  0.822595           0  \n",
       "8988           -0.342997   -0.239085 -1.215664           0  \n",
       "8989           -0.342997   -0.239085 -1.215664           1  \n",
       "8990           -0.342997   -0.239085  0.822595           0  \n",
       "8991           -0.342997   -0.239085  0.822595           0  \n",
       "\n",
       "[8992 rows x 11 columns]"
      ]
     },
     "execution_count": 352,
     "metadata": {},
     "output_type": "execute_result"
    }
   ],
   "source": [
    "X"
   ]
  },
  {
   "cell_type": "code",
   "execution_count": 353,
   "id": "33c4d51b",
   "metadata": {},
   "outputs": [],
   "source": [
    "from sklearn.model_selection import train_test_split\n",
    "X_train, X_test, y_train, y_test = train_test_split(X,y, test_size = 0.20, random_state = 42)"
   ]
  },
  {
   "cell_type": "code",
   "execution_count": 354,
   "id": "16ed5442",
   "metadata": {},
   "outputs": [],
   "source": [
    "#Preparing the model\n",
    "from sklearn.linear_model import LogisticRegression\n",
    "modelLR = LogisticRegression()\n",
    "modelLR.fit(X_train, y_train)\n",
    "train_accuracy_LR=modelLR.score(X_train,y_train)\n",
    "test_accuracy_LR=modelLR.score(X_test,y_test)"
   ]
  },
  {
   "cell_type": "code",
   "execution_count": 355,
   "id": "317330d7",
   "metadata": {},
   "outputs": [
    {
     "data": {
      "text/plain": [
       "0.8932295287084666"
      ]
     },
     "execution_count": 355,
     "metadata": {},
     "output_type": "execute_result"
    }
   ],
   "source": [
    "train_accuracy_LR"
   ]
  },
  {
   "cell_type": "code",
   "execution_count": 356,
   "id": "06006e41",
   "metadata": {},
   "outputs": [
    {
     "data": {
      "text/plain": [
       "0.8888271261812117"
      ]
     },
     "execution_count": 356,
     "metadata": {},
     "output_type": "execute_result"
    }
   ],
   "source": [
    "test_accuracy_LR"
   ]
  },
  {
   "cell_type": "markdown",
   "id": "bdd366d3",
   "metadata": {},
   "source": [
    "The model is a good fit.Since the accuracy for training and test data are nearly equal."
   ]
  },
  {
   "cell_type": "markdown",
   "id": "4c5d48b9",
   "metadata": {},
   "source": [
    "# SVM"
   ]
  },
  {
   "cell_type": "markdown",
   "id": "878d8747",
   "metadata": {},
   "source": [
    "I have trained a logistic regression model and achieved an accuracy of 87%. This high accuracy suggests that our data is linearly separable. So we can set the kernel as 'linear' in SVM classifier."
   ]
  },
  {
   "cell_type": "code",
   "execution_count": 357,
   "id": "4666c55b",
   "metadata": {},
   "outputs": [
    {
     "data": {
      "text/html": [
       "<style>#sk-container-id-7 {color: black;background-color: white;}#sk-container-id-7 pre{padding: 0;}#sk-container-id-7 div.sk-toggleable {background-color: white;}#sk-container-id-7 label.sk-toggleable__label {cursor: pointer;display: block;width: 100%;margin-bottom: 0;padding: 0.3em;box-sizing: border-box;text-align: center;}#sk-container-id-7 label.sk-toggleable__label-arrow:before {content: \"▸\";float: left;margin-right: 0.25em;color: #696969;}#sk-container-id-7 label.sk-toggleable__label-arrow:hover:before {color: black;}#sk-container-id-7 div.sk-estimator:hover label.sk-toggleable__label-arrow:before {color: black;}#sk-container-id-7 div.sk-toggleable__content {max-height: 0;max-width: 0;overflow: hidden;text-align: left;background-color: #f0f8ff;}#sk-container-id-7 div.sk-toggleable__content pre {margin: 0.2em;color: black;border-radius: 0.25em;background-color: #f0f8ff;}#sk-container-id-7 input.sk-toggleable__control:checked~div.sk-toggleable__content {max-height: 200px;max-width: 100%;overflow: auto;}#sk-container-id-7 input.sk-toggleable__control:checked~label.sk-toggleable__label-arrow:before {content: \"▾\";}#sk-container-id-7 div.sk-estimator input.sk-toggleable__control:checked~label.sk-toggleable__label {background-color: #d4ebff;}#sk-container-id-7 div.sk-label input.sk-toggleable__control:checked~label.sk-toggleable__label {background-color: #d4ebff;}#sk-container-id-7 input.sk-hidden--visually {border: 0;clip: rect(1px 1px 1px 1px);clip: rect(1px, 1px, 1px, 1px);height: 1px;margin: -1px;overflow: hidden;padding: 0;position: absolute;width: 1px;}#sk-container-id-7 div.sk-estimator {font-family: monospace;background-color: #f0f8ff;border: 1px dotted black;border-radius: 0.25em;box-sizing: border-box;margin-bottom: 0.5em;}#sk-container-id-7 div.sk-estimator:hover {background-color: #d4ebff;}#sk-container-id-7 div.sk-parallel-item::after {content: \"\";width: 100%;border-bottom: 1px solid gray;flex-grow: 1;}#sk-container-id-7 div.sk-label:hover label.sk-toggleable__label {background-color: #d4ebff;}#sk-container-id-7 div.sk-serial::before {content: \"\";position: absolute;border-left: 1px solid gray;box-sizing: border-box;top: 0;bottom: 0;left: 50%;z-index: 0;}#sk-container-id-7 div.sk-serial {display: flex;flex-direction: column;align-items: center;background-color: white;padding-right: 0.2em;padding-left: 0.2em;position: relative;}#sk-container-id-7 div.sk-item {position: relative;z-index: 1;}#sk-container-id-7 div.sk-parallel {display: flex;align-items: stretch;justify-content: center;background-color: white;position: relative;}#sk-container-id-7 div.sk-item::before, #sk-container-id-7 div.sk-parallel-item::before {content: \"\";position: absolute;border-left: 1px solid gray;box-sizing: border-box;top: 0;bottom: 0;left: 50%;z-index: -1;}#sk-container-id-7 div.sk-parallel-item {display: flex;flex-direction: column;z-index: 1;position: relative;background-color: white;}#sk-container-id-7 div.sk-parallel-item:first-child::after {align-self: flex-end;width: 50%;}#sk-container-id-7 div.sk-parallel-item:last-child::after {align-self: flex-start;width: 50%;}#sk-container-id-7 div.sk-parallel-item:only-child::after {width: 0;}#sk-container-id-7 div.sk-dashed-wrapped {border: 1px dashed gray;margin: 0 0.4em 0.5em 0.4em;box-sizing: border-box;padding-bottom: 0.4em;background-color: white;}#sk-container-id-7 div.sk-label label {font-family: monospace;font-weight: bold;display: inline-block;line-height: 1.2em;}#sk-container-id-7 div.sk-label-container {text-align: center;}#sk-container-id-7 div.sk-container {/* jupyter's `normalize.less` sets `[hidden] { display: none; }` but bootstrap.min.css set `[hidden] { display: none !important; }` so we also need the `!important` here to be able to override the default hidden behavior on the sphinx rendered scikit-learn.org. See: https://github.com/scikit-learn/scikit-learn/issues/21755 */display: inline-block !important;position: relative;}#sk-container-id-7 div.sk-text-repr-fallback {display: none;}</style><div id=\"sk-container-id-7\" class=\"sk-top-container\"><div class=\"sk-text-repr-fallback\"><pre>SVC(kernel=&#x27;linear&#x27;)</pre><b>In a Jupyter environment, please rerun this cell to show the HTML representation or trust the notebook. <br />On GitHub, the HTML representation is unable to render, please try loading this page with nbviewer.org.</b></div><div class=\"sk-container\" hidden><div class=\"sk-item\"><div class=\"sk-estimator sk-toggleable\"><input class=\"sk-toggleable__control sk-hidden--visually\" id=\"sk-estimator-id-7\" type=\"checkbox\" checked><label for=\"sk-estimator-id-7\" class=\"sk-toggleable__label sk-toggleable__label-arrow\">SVC</label><div class=\"sk-toggleable__content\"><pre>SVC(kernel=&#x27;linear&#x27;)</pre></div></div></div></div></div>"
      ],
      "text/plain": [
       "SVC(kernel='linear')"
      ]
     },
     "execution_count": 357,
     "metadata": {},
     "output_type": "execute_result"
    }
   ],
   "source": [
    "from sklearn.svm import SVC\n",
    "modelSVM = SVC(kernel=\"linear\")\n",
    "modelSVM.fit(X_train, y_train)"
   ]
  },
  {
   "cell_type": "code",
   "execution_count": 358,
   "id": "f2c34ab5",
   "metadata": {},
   "outputs": [],
   "source": [
    "train_accuracy_SVM=modelSVM.score(X_train,y_train)\n",
    "test_accuracy_SVM=modelSVM.score(X_test,y_test)"
   ]
  },
  {
   "cell_type": "code",
   "execution_count": 359,
   "id": "d07c48f4",
   "metadata": {},
   "outputs": [
    {
     "data": {
      "text/plain": [
       "0.8905880717364104"
      ]
     },
     "execution_count": 359,
     "metadata": {},
     "output_type": "execute_result"
    }
   ],
   "source": [
    "train_accuracy_SVM"
   ]
  },
  {
   "cell_type": "code",
   "execution_count": 360,
   "id": "1d7f1905",
   "metadata": {},
   "outputs": [
    {
     "data": {
      "text/plain": [
       "0.8910505836575876"
      ]
     },
     "execution_count": 360,
     "metadata": {},
     "output_type": "execute_result"
    }
   ],
   "source": [
    "test_accuracy_SVM"
   ]
  },
  {
   "cell_type": "markdown",
   "id": "c350d16e",
   "metadata": {},
   "source": [
    "The accuracy for SVM model is also good."
   ]
  },
  {
   "cell_type": "code",
   "execution_count": 361,
   "id": "08c5e80a",
   "metadata": {},
   "outputs": [
    {
     "data": {
      "text/plain": [
       "Text(0.5, 1.0, 'Comparison of Logistic, SVM')"
      ]
     },
     "execution_count": 361,
     "metadata": {},
     "output_type": "execute_result"
    },
    {
     "data": {
      "image/png": "[encoded data removed]",
      "text/plain": [
       "<Figure size 640x480 with 1 Axes>"
      ]
     },
     "metadata": {},
     "output_type": "display_data"
    }
   ],
   "source": [
    "plt.bar(['Logistic Regression'], [test_accuracy_LR], label='LR', color='blue')\n",
    "plt.bar(['SVM classifier'], [test_accuracy_SVM], label='SVM', color='green')\n",
    "\n",
    "\n",
    "plt.ylabel('Accuracy')\n",
    "plt.title('Comparison of Logistic, SVM')"
   ]
  },
  {
   "cell_type": "markdown",
   "id": "432b8995",
   "metadata": {},
   "source": [
    "## Conclusion"
   ]
  },
  {
   "cell_type": "markdown",
   "id": "cf7c2cd3",
   "metadata": {},
   "source": [
    "Here, the accuracy given by the logistic regression is 87% whereas the accuracy of the SVM is 89%. So we can see that SVM classifies more accurately compared to logistic regression."
   ]
  }
 ],
 "metadata": {
  "kernelspec": {
   "display_name": "Python 3 (ipykernel)",
   "language": "python",
   "name": "python3"
  },
  "language_info": {
   "codemirror_mode": {
    "name": "ipython",
    "version": 3
   },
   "file_extension": ".py",
   "mimetype": "text/x-python",
   "name": "python",
   "nbconvert_exporter": "python",
   "pygments_lexer": "ipython3",
   "version": "3.9.16"
  }
 },
 "nbformat": 4,
 "nbformat_minor": 5
}
